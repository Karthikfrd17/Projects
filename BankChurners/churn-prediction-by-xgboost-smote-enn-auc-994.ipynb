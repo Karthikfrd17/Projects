{
 "cells": [
  {
   "cell_type": "markdown",
   "metadata": {
    "papermill": {
     "duration": 0.035884,
     "end_time": "2021-03-09T16:50:47.060135",
     "exception": false,
     "start_time": "2021-03-09T16:50:47.024251",
     "status": "completed"
    },
    "tags": []
   },
   "source": [
    "# Customer Churn Prediction with XGBoost and SMOTE-ENN"
   ]
  },
  {
   "cell_type": "markdown",
   "metadata": {
    "papermill": {
     "duration": 0.032171,
     "end_time": "2021-03-09T16:50:47.125105",
     "exception": false,
     "start_time": "2021-03-09T16:50:47.092934",
     "status": "completed"
    },
    "tags": []
   },
   "source": [
    "- Customer churn prediction is a binary classification problem to be solved by supervised learning.\n",
    "- Let's use major supervised learning algorithm and compare the results.\n",
    "  - Logistic regression\n",
    "  - KNN\n",
    "  - SVM\n",
    "  - Decision Tree\n",
    "  - Random Forest\n",
    "  - AdaBoost\n",
    "  - XGBoost\n",
    "- The data is imbalanced, so apply rebalancing methods and compare their results  with those of baseline models.\n",
    "  - Baseline models: Imbalanced data\n",
    "  - SMOTE\n",
    "  - SMOTE-ENN\n",
    "- Performance measure\n",
    "  - Accuracy\n",
    "  - Recall\n",
    "  - F1 score\n",
    "  - AUC score"
   ]
  },
  {
   "cell_type": "code",
   "execution_count": 1,
   "metadata": {
    "_cell_guid": "b1076dfc-b9ad-4769-8c92-a6c4dae69d19",
    "_uuid": "8f2839f25d086af736a60e9eeb907d3b93b6e0e5",
    "execution": {
     "iopub.execute_input": "2021-03-09T16:50:47.195564Z",
     "iopub.status.busy": "2021-03-09T16:50:47.194947Z",
     "iopub.status.idle": "2021-03-09T16:50:47.207574Z",
     "shell.execute_reply": "2021-03-09T16:50:47.208137Z"
    },
    "papermill": {
     "duration": 0.051365,
     "end_time": "2021-03-09T16:50:47.208453",
     "exception": false,
     "start_time": "2021-03-09T16:50:47.157088",
     "status": "completed"
    },
    "tags": []
   },
   "outputs": [
    {
     "name": "stdout",
     "output_type": "stream",
     "text": [
      "/kaggle/input/credit-card-customers/BankChurners.csv\n"
     ]
    }
   ],
   "source": [
    "# This Python 3 environment comes with many helpful analytics libraries installed\n",
    "# It is defined by the kaggle/python Docker image: https://github.com/kaggle/docker-python\n",
    "# For example, here's several helpful packages to load\n",
    "\n",
    "import numpy as np # linear algebra\n",
    "import pandas as pd # data processing, CSV file I/O (e.g. pd.read_csv)\n",
    "\n",
    "# Input data files are available in the read-only \"../input/\" directory\n",
    "# For example, running this (by clicking run or pressing Shift+Enter) will list all files under the input directory\n",
    "\n",
    "import os\n",
    "for dirname, _, filenames in os.walk('/kaggle/input'):\n",
    "    for filename in filenames:\n",
    "        print(os.path.join(dirname, filename))\n",
    "\n",
    "# You can write up to 20GB to the current directory (/kaggle/working/) that gets preserved as output when you create a version using \"Save & Run All\" \n",
    "# You can also write temporary files to /kaggle/temp/, but they won't be saved outside of the current session"
   ]
  },
  {
   "cell_type": "markdown",
   "metadata": {
    "papermill": {
     "duration": 0.033194,
     "end_time": "2021-03-09T16:50:47.276192",
     "exception": false,
     "start_time": "2021-03-09T16:50:47.242998",
     "status": "completed"
    },
    "tags": []
   },
   "source": [
    "# 1. Load and Explore Dataset"
   ]
  },
  {
   "cell_type": "code",
   "execution_count": 2,
   "metadata": {
    "execution": {
     "iopub.execute_input": "2021-03-09T16:50:47.355213Z",
     "iopub.status.busy": "2021-03-09T16:50:47.354548Z",
     "iopub.status.idle": "2021-03-09T16:50:49.097758Z",
     "shell.execute_reply": "2021-03-09T16:50:49.097020Z"
    },
    "papermill": {
     "duration": 1.788561,
     "end_time": "2021-03-09T16:50:49.097933",
     "exception": false,
     "start_time": "2021-03-09T16:50:47.309372",
     "status": "completed"
    },
    "tags": []
   },
   "outputs": [
    {
     "name": "stderr",
     "output_type": "stream",
     "text": [
      "/opt/conda/lib/python3.7/site-packages/sklearn/utils/deprecation.py:143: FutureWarning: The sklearn.metrics.scorer module is  deprecated in version 0.22 and will be removed in version 0.24. The corresponding classes / functions should instead be imported from sklearn.metrics. Anything that cannot be imported from sklearn.metrics is now part of the private API.\n",
      "  warnings.warn(message, FutureWarning)\n"
     ]
    }
   ],
   "source": [
    "# Import the necessary packages\n",
    "import pandas as pd\n",
    "import numpy as np\n",
    "import matplotlib.pyplot as plt\n",
    "import seaborn as sns\n",
    "\n",
    "from sklearn.preprocessing import LabelEncoder\n",
    "from sklearn.preprocessing import OneHotEncoder\n",
    "from sklearn.compose import ColumnTransformer\n",
    "\n",
    "from sklearn.model_selection import train_test_split\n",
    "from sklearn.preprocessing import StandardScaler\n",
    "from sklearn.linear_model import LogisticRegression\n",
    "from sklearn.neighbors import KNeighborsClassifier\n",
    "from sklearn.svm import SVC\n",
    "from sklearn.tree import DecisionTreeClassifier\n",
    "from sklearn.ensemble import RandomForestClassifier\n",
    "from sklearn.ensemble import AdaBoostClassifier\n",
    "from xgboost import XGBClassifier\n",
    "\n",
    "from sklearn.model_selection import GridSearchCV\n",
    "\n",
    "from sklearn.metrics import confusion_matrix,accuracy_score,classification_report\n",
    "from sklearn.metrics import roc_auc_score,roc_curve,scorer\n",
    "from sklearn.metrics import f1_score\n",
    "from sklearn.metrics import precision_score,recall_score\n",
    "\n",
    "pd.set_option('display.max_rows', None)\n",
    "pd.set_option('display.max_columns', None)\n",
    "sns.set(color_codes=True)\n",
    "%matplotlib inline\n",
    "%config InlineBackend.figure_formats = {'png', 'retina'}\n",
    "\n",
    "# Suppressing Warnings\n",
    "import warnings\n",
    "warnings.filterwarnings('ignore')"
   ]
  },
  {
   "cell_type": "code",
   "execution_count": 3,
   "metadata": {
    "execution": {
     "iopub.execute_input": "2021-03-09T16:50:49.170885Z",
     "iopub.status.busy": "2021-03-09T16:50:49.170222Z",
     "iopub.status.idle": "2021-03-09T16:50:49.233865Z",
     "shell.execute_reply": "2021-03-09T16:50:49.233265Z"
    },
    "papermill": {
     "duration": 0.101631,
     "end_time": "2021-03-09T16:50:49.234047",
     "exception": false,
     "start_time": "2021-03-09T16:50:49.132416",
     "status": "completed"
    },
    "tags": []
   },
   "outputs": [],
   "source": [
    "# Load the dataset\n",
    "df=pd.read_csv('../input/credit-card-customers/BankChurners.csv')"
   ]
  },
  {
   "cell_type": "code",
   "execution_count": 4,
   "metadata": {
    "execution": {
     "iopub.execute_input": "2021-03-09T16:50:49.309245Z",
     "iopub.status.busy": "2021-03-09T16:50:49.308480Z",
     "iopub.status.idle": "2021-03-09T16:50:49.313298Z",
     "shell.execute_reply": "2021-03-09T16:50:49.312674Z"
    },
    "papermill": {
     "duration": 0.045272,
     "end_time": "2021-03-09T16:50:49.313450",
     "exception": false,
     "start_time": "2021-03-09T16:50:49.268178",
     "status": "completed"
    },
    "tags": []
   },
   "outputs": [
    {
     "data": {
      "text/plain": [
       "Index(['CLIENTNUM', 'Attrition_Flag', 'Customer_Age', 'Gender',\n",
       "       'Dependent_count', 'Education_Level', 'Marital_Status',\n",
       "       'Income_Category', 'Card_Category', 'Months_on_book',\n",
       "       'Total_Relationship_Count', 'Months_Inactive_12_mon',\n",
       "       'Contacts_Count_12_mon', 'Credit_Limit', 'Total_Revolving_Bal',\n",
       "       'Avg_Open_To_Buy', 'Total_Amt_Chng_Q4_Q1', 'Total_Trans_Amt',\n",
       "       'Total_Trans_Ct', 'Total_Ct_Chng_Q4_Q1', 'Avg_Utilization_Ratio',\n",
       "       'Naive_Bayes_Classifier_Attrition_Flag_Card_Category_Contacts_Count_12_mon_Dependent_count_Education_Level_Months_Inactive_12_mon_1',\n",
       "       'Naive_Bayes_Classifier_Attrition_Flag_Card_Category_Contacts_Count_12_mon_Dependent_count_Education_Level_Months_Inactive_12_mon_2'],\n",
       "      dtype='object')"
      ]
     },
     "execution_count": 4,
     "metadata": {},
     "output_type": "execute_result"
    }
   ],
   "source": [
    "# According to the data details, \"The PLEASE IGNORE THE LAST 2 COLUMNS (NAIVE BAYES CLAS…)\" so we should delete the last 2 columns.\n",
    "# First display the column names\n",
    "df.columns"
   ]
  },
  {
   "cell_type": "code",
   "execution_count": 5,
   "metadata": {
    "execution": {
     "iopub.execute_input": "2021-03-09T16:50:49.396488Z",
     "iopub.status.busy": "2021-03-09T16:50:49.389886Z",
     "iopub.status.idle": "2021-03-09T16:50:49.402070Z",
     "shell.execute_reply": "2021-03-09T16:50:49.401380Z"
    },
    "papermill": {
     "duration": 0.055176,
     "end_time": "2021-03-09T16:50:49.402224",
     "exception": false,
     "start_time": "2021-03-09T16:50:49.347048",
     "status": "completed"
    },
    "tags": []
   },
   "outputs": [],
   "source": [
    "# Delete the last two columns\n",
    "# \"CLIENTNUM\" is not needed for prediction. So, let's delete it.\n",
    "df=df.drop([\"CLIENTNUM\",\n",
    "            \"Naive_Bayes_Classifier_Attrition_Flag_Card_Category_Contacts_Count_12_mon_Dependent_count_Education_Level_Months_Inactive_12_mon_1\",\n",
    "            \"Naive_Bayes_Classifier_Attrition_Flag_Card_Category_Contacts_Count_12_mon_Dependent_count_Education_Level_Months_Inactive_12_mon_2\"],\n",
    "           axis = 1)"
   ]
  },
  {
   "cell_type": "code",
   "execution_count": 6,
   "metadata": {
    "execution": {
     "iopub.execute_input": "2021-03-09T16:50:49.477063Z",
     "iopub.status.busy": "2021-03-09T16:50:49.476391Z",
     "iopub.status.idle": "2021-03-09T16:50:49.502152Z",
     "shell.execute_reply": "2021-03-09T16:50:49.501587Z"
    },
    "papermill": {
     "duration": 0.066183,
     "end_time": "2021-03-09T16:50:49.502295",
     "exception": false,
     "start_time": "2021-03-09T16:50:49.436112",
     "status": "completed"
    },
    "tags": []
   },
   "outputs": [
    {
     "data": {
      "text/html": [
       "<div>\n",
       "<style scoped>\n",
       "    .dataframe tbody tr th:only-of-type {\n",
       "        vertical-align: middle;\n",
       "    }\n",
       "\n",
       "    .dataframe tbody tr th {\n",
       "        vertical-align: top;\n",
       "    }\n",
       "\n",
       "    .dataframe thead th {\n",
       "        text-align: right;\n",
       "    }\n",
       "</style>\n",
       "<table border=\"1\" class=\"dataframe\">\n",
       "  <thead>\n",
       "    <tr style=\"text-align: right;\">\n",
       "      <th></th>\n",
       "      <th>Attrition_Flag</th>\n",
       "      <th>Customer_Age</th>\n",
       "      <th>Gender</th>\n",
       "      <th>Dependent_count</th>\n",
       "      <th>Education_Level</th>\n",
       "      <th>Marital_Status</th>\n",
       "      <th>Income_Category</th>\n",
       "      <th>Card_Category</th>\n",
       "      <th>Months_on_book</th>\n",
       "      <th>Total_Relationship_Count</th>\n",
       "      <th>Months_Inactive_12_mon</th>\n",
       "      <th>Contacts_Count_12_mon</th>\n",
       "      <th>Credit_Limit</th>\n",
       "      <th>Total_Revolving_Bal</th>\n",
       "      <th>Avg_Open_To_Buy</th>\n",
       "      <th>Total_Amt_Chng_Q4_Q1</th>\n",
       "      <th>Total_Trans_Amt</th>\n",
       "      <th>Total_Trans_Ct</th>\n",
       "      <th>Total_Ct_Chng_Q4_Q1</th>\n",
       "      <th>Avg_Utilization_Ratio</th>\n",
       "    </tr>\n",
       "  </thead>\n",
       "  <tbody>\n",
       "    <tr>\n",
       "      <th>0</th>\n",
       "      <td>Existing Customer</td>\n",
       "      <td>45</td>\n",
       "      <td>M</td>\n",
       "      <td>3</td>\n",
       "      <td>High School</td>\n",
       "      <td>Married</td>\n",
       "      <td>$60K - $80K</td>\n",
       "      <td>Blue</td>\n",
       "      <td>39</td>\n",
       "      <td>5</td>\n",
       "      <td>1</td>\n",
       "      <td>3</td>\n",
       "      <td>12691.0</td>\n",
       "      <td>777</td>\n",
       "      <td>11914.0</td>\n",
       "      <td>1.335</td>\n",
       "      <td>1144</td>\n",
       "      <td>42</td>\n",
       "      <td>1.625</td>\n",
       "      <td>0.061</td>\n",
       "    </tr>\n",
       "    <tr>\n",
       "      <th>1</th>\n",
       "      <td>Existing Customer</td>\n",
       "      <td>49</td>\n",
       "      <td>F</td>\n",
       "      <td>5</td>\n",
       "      <td>Graduate</td>\n",
       "      <td>Single</td>\n",
       "      <td>Less than $40K</td>\n",
       "      <td>Blue</td>\n",
       "      <td>44</td>\n",
       "      <td>6</td>\n",
       "      <td>1</td>\n",
       "      <td>2</td>\n",
       "      <td>8256.0</td>\n",
       "      <td>864</td>\n",
       "      <td>7392.0</td>\n",
       "      <td>1.541</td>\n",
       "      <td>1291</td>\n",
       "      <td>33</td>\n",
       "      <td>3.714</td>\n",
       "      <td>0.105</td>\n",
       "    </tr>\n",
       "    <tr>\n",
       "      <th>2</th>\n",
       "      <td>Existing Customer</td>\n",
       "      <td>51</td>\n",
       "      <td>M</td>\n",
       "      <td>3</td>\n",
       "      <td>Graduate</td>\n",
       "      <td>Married</td>\n",
       "      <td>$80K - $120K</td>\n",
       "      <td>Blue</td>\n",
       "      <td>36</td>\n",
       "      <td>4</td>\n",
       "      <td>1</td>\n",
       "      <td>0</td>\n",
       "      <td>3418.0</td>\n",
       "      <td>0</td>\n",
       "      <td>3418.0</td>\n",
       "      <td>2.594</td>\n",
       "      <td>1887</td>\n",
       "      <td>20</td>\n",
       "      <td>2.333</td>\n",
       "      <td>0.000</td>\n",
       "    </tr>\n",
       "    <tr>\n",
       "      <th>3</th>\n",
       "      <td>Existing Customer</td>\n",
       "      <td>40</td>\n",
       "      <td>F</td>\n",
       "      <td>4</td>\n",
       "      <td>High School</td>\n",
       "      <td>Unknown</td>\n",
       "      <td>Less than $40K</td>\n",
       "      <td>Blue</td>\n",
       "      <td>34</td>\n",
       "      <td>3</td>\n",
       "      <td>4</td>\n",
       "      <td>1</td>\n",
       "      <td>3313.0</td>\n",
       "      <td>2517</td>\n",
       "      <td>796.0</td>\n",
       "      <td>1.405</td>\n",
       "      <td>1171</td>\n",
       "      <td>20</td>\n",
       "      <td>2.333</td>\n",
       "      <td>0.760</td>\n",
       "    </tr>\n",
       "    <tr>\n",
       "      <th>4</th>\n",
       "      <td>Existing Customer</td>\n",
       "      <td>40</td>\n",
       "      <td>M</td>\n",
       "      <td>3</td>\n",
       "      <td>Uneducated</td>\n",
       "      <td>Married</td>\n",
       "      <td>$60K - $80K</td>\n",
       "      <td>Blue</td>\n",
       "      <td>21</td>\n",
       "      <td>5</td>\n",
       "      <td>1</td>\n",
       "      <td>0</td>\n",
       "      <td>4716.0</td>\n",
       "      <td>0</td>\n",
       "      <td>4716.0</td>\n",
       "      <td>2.175</td>\n",
       "      <td>816</td>\n",
       "      <td>28</td>\n",
       "      <td>2.500</td>\n",
       "      <td>0.000</td>\n",
       "    </tr>\n",
       "  </tbody>\n",
       "</table>\n",
       "</div>"
      ],
      "text/plain": [
       "      Attrition_Flag  Customer_Age Gender  Dependent_count Education_Level  \\\n",
       "0  Existing Customer            45      M                3     High School   \n",
       "1  Existing Customer            49      F                5        Graduate   \n",
       "2  Existing Customer            51      M                3        Graduate   \n",
       "3  Existing Customer            40      F                4     High School   \n",
       "4  Existing Customer            40      M                3      Uneducated   \n",
       "\n",
       "  Marital_Status Income_Category Card_Category  Months_on_book  \\\n",
       "0        Married     $60K - $80K          Blue              39   \n",
       "1         Single  Less than $40K          Blue              44   \n",
       "2        Married    $80K - $120K          Blue              36   \n",
       "3        Unknown  Less than $40K          Blue              34   \n",
       "4        Married     $60K - $80K          Blue              21   \n",
       "\n",
       "   Total_Relationship_Count  Months_Inactive_12_mon  Contacts_Count_12_mon  \\\n",
       "0                         5                       1                      3   \n",
       "1                         6                       1                      2   \n",
       "2                         4                       1                      0   \n",
       "3                         3                       4                      1   \n",
       "4                         5                       1                      0   \n",
       "\n",
       "   Credit_Limit  Total_Revolving_Bal  Avg_Open_To_Buy  Total_Amt_Chng_Q4_Q1  \\\n",
       "0       12691.0                  777          11914.0                 1.335   \n",
       "1        8256.0                  864           7392.0                 1.541   \n",
       "2        3418.0                    0           3418.0                 2.594   \n",
       "3        3313.0                 2517            796.0                 1.405   \n",
       "4        4716.0                    0           4716.0                 2.175   \n",
       "\n",
       "   Total_Trans_Amt  Total_Trans_Ct  Total_Ct_Chng_Q4_Q1  Avg_Utilization_Ratio  \n",
       "0             1144              42                1.625                  0.061  \n",
       "1             1291              33                3.714                  0.105  \n",
       "2             1887              20                2.333                  0.000  \n",
       "3             1171              20                2.333                  0.760  \n",
       "4              816              28                2.500                  0.000  "
      ]
     },
     "execution_count": 6,
     "metadata": {},
     "output_type": "execute_result"
    }
   ],
   "source": [
    "# Display first five rows\n",
    "df.head()"
   ]
  },
  {
   "cell_type": "code",
   "execution_count": 7,
   "metadata": {
    "execution": {
     "iopub.execute_input": "2021-03-09T16:50:49.575544Z",
     "iopub.status.busy": "2021-03-09T16:50:49.574864Z",
     "iopub.status.idle": "2021-03-09T16:50:49.578737Z",
     "shell.execute_reply": "2021-03-09T16:50:49.578229Z"
    },
    "papermill": {
     "duration": 0.042219,
     "end_time": "2021-03-09T16:50:49.578882",
     "exception": false,
     "start_time": "2021-03-09T16:50:49.536663",
     "status": "completed"
    },
    "tags": []
   },
   "outputs": [
    {
     "data": {
      "text/plain": [
       "(10127, 20)"
      ]
     },
     "execution_count": 7,
     "metadata": {},
     "output_type": "execute_result"
    }
   ],
   "source": [
    "# Display dataset shape\n",
    "df.shape"
   ]
  },
  {
   "cell_type": "code",
   "execution_count": 8,
   "metadata": {
    "execution": {
     "iopub.execute_input": "2021-03-09T16:50:49.651266Z",
     "iopub.status.busy": "2021-03-09T16:50:49.650539Z",
     "iopub.status.idle": "2021-03-09T16:50:49.703629Z",
     "shell.execute_reply": "2021-03-09T16:50:49.703054Z"
    },
    "papermill": {
     "duration": 0.090391,
     "end_time": "2021-03-09T16:50:49.703820",
     "exception": false,
     "start_time": "2021-03-09T16:50:49.613429",
     "status": "completed"
    },
    "tags": []
   },
   "outputs": [
    {
     "data": {
      "text/html": [
       "<div>\n",
       "<style scoped>\n",
       "    .dataframe tbody tr th:only-of-type {\n",
       "        vertical-align: middle;\n",
       "    }\n",
       "\n",
       "    .dataframe tbody tr th {\n",
       "        vertical-align: top;\n",
       "    }\n",
       "\n",
       "    .dataframe thead th {\n",
       "        text-align: right;\n",
       "    }\n",
       "</style>\n",
       "<table border=\"1\" class=\"dataframe\">\n",
       "  <thead>\n",
       "    <tr style=\"text-align: right;\">\n",
       "      <th></th>\n",
       "      <th>Customer_Age</th>\n",
       "      <th>Dependent_count</th>\n",
       "      <th>Months_on_book</th>\n",
       "      <th>Total_Relationship_Count</th>\n",
       "      <th>Months_Inactive_12_mon</th>\n",
       "      <th>Contacts_Count_12_mon</th>\n",
       "      <th>Credit_Limit</th>\n",
       "      <th>Total_Revolving_Bal</th>\n",
       "      <th>Avg_Open_To_Buy</th>\n",
       "      <th>Total_Amt_Chng_Q4_Q1</th>\n",
       "      <th>Total_Trans_Amt</th>\n",
       "      <th>Total_Trans_Ct</th>\n",
       "      <th>Total_Ct_Chng_Q4_Q1</th>\n",
       "      <th>Avg_Utilization_Ratio</th>\n",
       "    </tr>\n",
       "  </thead>\n",
       "  <tbody>\n",
       "    <tr>\n",
       "      <th>count</th>\n",
       "      <td>10127.000000</td>\n",
       "      <td>10127.000000</td>\n",
       "      <td>10127.000000</td>\n",
       "      <td>10127.000000</td>\n",
       "      <td>10127.000000</td>\n",
       "      <td>10127.000000</td>\n",
       "      <td>10127.000000</td>\n",
       "      <td>10127.000000</td>\n",
       "      <td>10127.000000</td>\n",
       "      <td>10127.000000</td>\n",
       "      <td>10127.000000</td>\n",
       "      <td>10127.000000</td>\n",
       "      <td>10127.000000</td>\n",
       "      <td>10127.000000</td>\n",
       "    </tr>\n",
       "    <tr>\n",
       "      <th>mean</th>\n",
       "      <td>46.325960</td>\n",
       "      <td>2.346203</td>\n",
       "      <td>35.928409</td>\n",
       "      <td>3.812580</td>\n",
       "      <td>2.341167</td>\n",
       "      <td>2.455317</td>\n",
       "      <td>8631.953698</td>\n",
       "      <td>1162.814061</td>\n",
       "      <td>7469.139637</td>\n",
       "      <td>0.759941</td>\n",
       "      <td>4404.086304</td>\n",
       "      <td>64.858695</td>\n",
       "      <td>0.712222</td>\n",
       "      <td>0.274894</td>\n",
       "    </tr>\n",
       "    <tr>\n",
       "      <th>std</th>\n",
       "      <td>8.016814</td>\n",
       "      <td>1.298908</td>\n",
       "      <td>7.986416</td>\n",
       "      <td>1.554408</td>\n",
       "      <td>1.010622</td>\n",
       "      <td>1.106225</td>\n",
       "      <td>9088.776650</td>\n",
       "      <td>814.987335</td>\n",
       "      <td>9090.685324</td>\n",
       "      <td>0.219207</td>\n",
       "      <td>3397.129254</td>\n",
       "      <td>23.472570</td>\n",
       "      <td>0.238086</td>\n",
       "      <td>0.275691</td>\n",
       "    </tr>\n",
       "    <tr>\n",
       "      <th>min</th>\n",
       "      <td>26.000000</td>\n",
       "      <td>0.000000</td>\n",
       "      <td>13.000000</td>\n",
       "      <td>1.000000</td>\n",
       "      <td>0.000000</td>\n",
       "      <td>0.000000</td>\n",
       "      <td>1438.300000</td>\n",
       "      <td>0.000000</td>\n",
       "      <td>3.000000</td>\n",
       "      <td>0.000000</td>\n",
       "      <td>510.000000</td>\n",
       "      <td>10.000000</td>\n",
       "      <td>0.000000</td>\n",
       "      <td>0.000000</td>\n",
       "    </tr>\n",
       "    <tr>\n",
       "      <th>25%</th>\n",
       "      <td>41.000000</td>\n",
       "      <td>1.000000</td>\n",
       "      <td>31.000000</td>\n",
       "      <td>3.000000</td>\n",
       "      <td>2.000000</td>\n",
       "      <td>2.000000</td>\n",
       "      <td>2555.000000</td>\n",
       "      <td>359.000000</td>\n",
       "      <td>1324.500000</td>\n",
       "      <td>0.631000</td>\n",
       "      <td>2155.500000</td>\n",
       "      <td>45.000000</td>\n",
       "      <td>0.582000</td>\n",
       "      <td>0.023000</td>\n",
       "    </tr>\n",
       "    <tr>\n",
       "      <th>50%</th>\n",
       "      <td>46.000000</td>\n",
       "      <td>2.000000</td>\n",
       "      <td>36.000000</td>\n",
       "      <td>4.000000</td>\n",
       "      <td>2.000000</td>\n",
       "      <td>2.000000</td>\n",
       "      <td>4549.000000</td>\n",
       "      <td>1276.000000</td>\n",
       "      <td>3474.000000</td>\n",
       "      <td>0.736000</td>\n",
       "      <td>3899.000000</td>\n",
       "      <td>67.000000</td>\n",
       "      <td>0.702000</td>\n",
       "      <td>0.176000</td>\n",
       "    </tr>\n",
       "    <tr>\n",
       "      <th>75%</th>\n",
       "      <td>52.000000</td>\n",
       "      <td>3.000000</td>\n",
       "      <td>40.000000</td>\n",
       "      <td>5.000000</td>\n",
       "      <td>3.000000</td>\n",
       "      <td>3.000000</td>\n",
       "      <td>11067.500000</td>\n",
       "      <td>1784.000000</td>\n",
       "      <td>9859.000000</td>\n",
       "      <td>0.859000</td>\n",
       "      <td>4741.000000</td>\n",
       "      <td>81.000000</td>\n",
       "      <td>0.818000</td>\n",
       "      <td>0.503000</td>\n",
       "    </tr>\n",
       "    <tr>\n",
       "      <th>max</th>\n",
       "      <td>73.000000</td>\n",
       "      <td>5.000000</td>\n",
       "      <td>56.000000</td>\n",
       "      <td>6.000000</td>\n",
       "      <td>6.000000</td>\n",
       "      <td>6.000000</td>\n",
       "      <td>34516.000000</td>\n",
       "      <td>2517.000000</td>\n",
       "      <td>34516.000000</td>\n",
       "      <td>3.397000</td>\n",
       "      <td>18484.000000</td>\n",
       "      <td>139.000000</td>\n",
       "      <td>3.714000</td>\n",
       "      <td>0.999000</td>\n",
       "    </tr>\n",
       "  </tbody>\n",
       "</table>\n",
       "</div>"
      ],
      "text/plain": [
       "       Customer_Age  Dependent_count  Months_on_book  \\\n",
       "count  10127.000000     10127.000000    10127.000000   \n",
       "mean      46.325960         2.346203       35.928409   \n",
       "std        8.016814         1.298908        7.986416   \n",
       "min       26.000000         0.000000       13.000000   \n",
       "25%       41.000000         1.000000       31.000000   \n",
       "50%       46.000000         2.000000       36.000000   \n",
       "75%       52.000000         3.000000       40.000000   \n",
       "max       73.000000         5.000000       56.000000   \n",
       "\n",
       "       Total_Relationship_Count  Months_Inactive_12_mon  \\\n",
       "count              10127.000000            10127.000000   \n",
       "mean                   3.812580                2.341167   \n",
       "std                    1.554408                1.010622   \n",
       "min                    1.000000                0.000000   \n",
       "25%                    3.000000                2.000000   \n",
       "50%                    4.000000                2.000000   \n",
       "75%                    5.000000                3.000000   \n",
       "max                    6.000000                6.000000   \n",
       "\n",
       "       Contacts_Count_12_mon  Credit_Limit  Total_Revolving_Bal  \\\n",
       "count           10127.000000  10127.000000         10127.000000   \n",
       "mean                2.455317   8631.953698          1162.814061   \n",
       "std                 1.106225   9088.776650           814.987335   \n",
       "min                 0.000000   1438.300000             0.000000   \n",
       "25%                 2.000000   2555.000000           359.000000   \n",
       "50%                 2.000000   4549.000000          1276.000000   \n",
       "75%                 3.000000  11067.500000          1784.000000   \n",
       "max                 6.000000  34516.000000          2517.000000   \n",
       "\n",
       "       Avg_Open_To_Buy  Total_Amt_Chng_Q4_Q1  Total_Trans_Amt  Total_Trans_Ct  \\\n",
       "count     10127.000000          10127.000000     10127.000000    10127.000000   \n",
       "mean       7469.139637              0.759941      4404.086304       64.858695   \n",
       "std        9090.685324              0.219207      3397.129254       23.472570   \n",
       "min           3.000000              0.000000       510.000000       10.000000   \n",
       "25%        1324.500000              0.631000      2155.500000       45.000000   \n",
       "50%        3474.000000              0.736000      3899.000000       67.000000   \n",
       "75%        9859.000000              0.859000      4741.000000       81.000000   \n",
       "max       34516.000000              3.397000     18484.000000      139.000000   \n",
       "\n",
       "       Total_Ct_Chng_Q4_Q1  Avg_Utilization_Ratio  \n",
       "count         10127.000000           10127.000000  \n",
       "mean              0.712222               0.274894  \n",
       "std               0.238086               0.275691  \n",
       "min               0.000000               0.000000  \n",
       "25%               0.582000               0.023000  \n",
       "50%               0.702000               0.176000  \n",
       "75%               0.818000               0.503000  \n",
       "max               3.714000               0.999000  "
      ]
     },
     "execution_count": 8,
     "metadata": {},
     "output_type": "execute_result"
    }
   ],
   "source": [
    "# Display descriptive statistics\n",
    "df.describe()"
   ]
  },
  {
   "cell_type": "code",
   "execution_count": 9,
   "metadata": {
    "execution": {
     "iopub.execute_input": "2021-03-09T16:50:49.785356Z",
     "iopub.status.busy": "2021-03-09T16:50:49.784326Z",
     "iopub.status.idle": "2021-03-09T16:50:49.802261Z",
     "shell.execute_reply": "2021-03-09T16:50:49.801634Z"
    },
    "papermill": {
     "duration": 0.061999,
     "end_time": "2021-03-09T16:50:49.802396",
     "exception": false,
     "start_time": "2021-03-09T16:50:49.740397",
     "status": "completed"
    },
    "tags": []
   },
   "outputs": [
    {
     "name": "stdout",
     "output_type": "stream",
     "text": [
      "<class 'pandas.core.frame.DataFrame'>\n",
      "RangeIndex: 10127 entries, 0 to 10126\n",
      "Data columns (total 20 columns):\n",
      " #   Column                    Non-Null Count  Dtype  \n",
      "---  ------                    --------------  -----  \n",
      " 0   Attrition_Flag            10127 non-null  object \n",
      " 1   Customer_Age              10127 non-null  int64  \n",
      " 2   Gender                    10127 non-null  object \n",
      " 3   Dependent_count           10127 non-null  int64  \n",
      " 4   Education_Level           10127 non-null  object \n",
      " 5   Marital_Status            10127 non-null  object \n",
      " 6   Income_Category           10127 non-null  object \n",
      " 7   Card_Category             10127 non-null  object \n",
      " 8   Months_on_book            10127 non-null  int64  \n",
      " 9   Total_Relationship_Count  10127 non-null  int64  \n",
      " 10  Months_Inactive_12_mon    10127 non-null  int64  \n",
      " 11  Contacts_Count_12_mon     10127 non-null  int64  \n",
      " 12  Credit_Limit              10127 non-null  float64\n",
      " 13  Total_Revolving_Bal       10127 non-null  int64  \n",
      " 14  Avg_Open_To_Buy           10127 non-null  float64\n",
      " 15  Total_Amt_Chng_Q4_Q1      10127 non-null  float64\n",
      " 16  Total_Trans_Amt           10127 non-null  int64  \n",
      " 17  Total_Trans_Ct            10127 non-null  int64  \n",
      " 18  Total_Ct_Chng_Q4_Q1       10127 non-null  float64\n",
      " 19  Avg_Utilization_Ratio     10127 non-null  float64\n",
      "dtypes: float64(5), int64(9), object(6)\n",
      "memory usage: 1.5+ MB\n"
     ]
    }
   ],
   "source": [
    "# Display data information\n",
    "df.info()"
   ]
  },
  {
   "cell_type": "markdown",
   "metadata": {
    "papermill": {
     "duration": 0.035624,
     "end_time": "2021-03-09T16:50:49.873821",
     "exception": false,
     "start_time": "2021-03-09T16:50:49.838197",
     "status": "completed"
    },
    "tags": []
   },
   "source": [
    "- There are no missing values in this dataset. \n",
    "- Some are categorical variables. So we need to encode them.\n",
    "  - They are \"Attrition_Flag\",\"Gender\",\"Education_Level\",\"Marital_Status\",\"Income_Category\",\"Card_Category\""
   ]
  },
  {
   "cell_type": "markdown",
   "metadata": {
    "papermill": {
     "duration": 0.0382,
     "end_time": "2021-03-09T16:50:49.947505",
     "exception": false,
     "start_time": "2021-03-09T16:50:49.909305",
     "status": "completed"
    },
    "tags": []
   },
   "source": [
    "# 2. Data preprocessing"
   ]
  },
  {
   "cell_type": "markdown",
   "metadata": {
    "papermill": {
     "duration": 0.035364,
     "end_time": "2021-03-09T16:50:50.018315",
     "exception": false,
     "start_time": "2021-03-09T16:50:49.982951",
     "status": "completed"
    },
    "tags": []
   },
   "source": [
    "# 2.1. Convert categorical variables to numerical"
   ]
  },
  {
   "cell_type": "code",
   "execution_count": 10,
   "metadata": {
    "execution": {
     "iopub.execute_input": "2021-03-09T16:50:50.097364Z",
     "iopub.status.busy": "2021-03-09T16:50:50.096412Z",
     "iopub.status.idle": "2021-03-09T16:50:50.107254Z",
     "shell.execute_reply": "2021-03-09T16:50:50.108090Z"
    },
    "papermill": {
     "duration": 0.054552,
     "end_time": "2021-03-09T16:50:50.108350",
     "exception": false,
     "start_time": "2021-03-09T16:50:50.053798",
     "status": "completed"
    },
    "tags": []
   },
   "outputs": [
    {
     "name": "stdout",
     "output_type": "stream",
     "text": [
      "Attrition_Flag : ['Existing Customer' 'Attrited Customer']\n",
      "Gender         : ['M' 'F']\n",
      "Education_Level: ['High School' 'Graduate' 'Uneducated' 'Unknown' 'College' 'Post-Graduate'\n",
      " 'Doctorate']\n",
      "Marital_Status : ['Married' 'Single' 'Unknown' 'Divorced']\n",
      "Income_Category: ['$60K - $80K' 'Less than $40K' '$80K - $120K' '$40K - $60K' '$120K +'\n",
      " 'Unknown']\n",
      "Card_Category  : ['Blue' 'Gold' 'Silver' 'Platinum']\n"
     ]
    }
   ],
   "source": [
    "# Show the unique values of categorical variables\n",
    "print(\"Attrition_Flag :\",df[\"Attrition_Flag\"].unique())\n",
    "print(\"Gender         :\",df[\"Gender\"].unique())\n",
    "print(\"Education_Level:\",df[\"Education_Level\"].unique())\n",
    "print(\"Marital_Status :\",df[\"Marital_Status\"].unique())\n",
    "print(\"Income_Category:\",df[\"Income_Category\"].unique())\n",
    "print(\"Card_Category  :\",df[\"Card_Category\"].unique())"
   ]
  },
  {
   "cell_type": "code",
   "execution_count": 11,
   "metadata": {
    "execution": {
     "iopub.execute_input": "2021-03-09T16:50:50.195394Z",
     "iopub.status.busy": "2021-03-09T16:50:50.192277Z",
     "iopub.status.idle": "2021-03-09T16:50:50.201392Z",
     "shell.execute_reply": "2021-03-09T16:50:50.200845Z"
    },
    "papermill": {
     "duration": 0.055595,
     "end_time": "2021-03-09T16:50:50.201544",
     "exception": false,
     "start_time": "2021-03-09T16:50:50.145949",
     "status": "completed"
    },
    "tags": []
   },
   "outputs": [],
   "source": [
    "# Convert variables with two categories into binary variables\n",
    "df.loc[df[\"Attrition_Flag\"] == \"Existing Customer\", \"Attrition_Flag\"] = 0\n",
    "df.loc[df[\"Attrition_Flag\"] == \"Attrited Customer\", \"Attrition_Flag\"] = 1\n",
    "df[\"Attrition_Flag\"] = df[\"Attrition_Flag\"].astype(int)\n",
    "\n",
    "df.loc[df[\"Gender\"] == \"F\", \"Gender\"] = 0\n",
    "df.loc[df[\"Gender\"] == \"M\", \"Gender\"] = 1\n",
    "df[\"Gender\"] = df[\"Gender\"].astype(int)"
   ]
  },
  {
   "cell_type": "code",
   "execution_count": 12,
   "metadata": {
    "execution": {
     "iopub.execute_input": "2021-03-09T16:50:50.294058Z",
     "iopub.status.busy": "2021-03-09T16:50:50.293421Z",
     "iopub.status.idle": "2021-03-09T16:50:50.298749Z",
     "shell.execute_reply": "2021-03-09T16:50:50.298241Z"
    },
    "papermill": {
     "duration": 0.061143,
     "end_time": "2021-03-09T16:50:50.298897",
     "exception": false,
     "start_time": "2021-03-09T16:50:50.237754",
     "status": "completed"
    },
    "tags": []
   },
   "outputs": [
    {
     "data": {
      "text/html": [
       "<div>\n",
       "<style scoped>\n",
       "    .dataframe tbody tr th:only-of-type {\n",
       "        vertical-align: middle;\n",
       "    }\n",
       "\n",
       "    .dataframe tbody tr th {\n",
       "        vertical-align: top;\n",
       "    }\n",
       "\n",
       "    .dataframe thead th {\n",
       "        text-align: right;\n",
       "    }\n",
       "</style>\n",
       "<table border=\"1\" class=\"dataframe\">\n",
       "  <thead>\n",
       "    <tr style=\"text-align: right;\">\n",
       "      <th></th>\n",
       "      <th>Attrition_Flag</th>\n",
       "      <th>Customer_Age</th>\n",
       "      <th>Gender</th>\n",
       "      <th>Dependent_count</th>\n",
       "      <th>Education_Level</th>\n",
       "      <th>Marital_Status</th>\n",
       "      <th>Income_Category</th>\n",
       "      <th>Card_Category</th>\n",
       "      <th>Months_on_book</th>\n",
       "      <th>Total_Relationship_Count</th>\n",
       "      <th>Months_Inactive_12_mon</th>\n",
       "      <th>Contacts_Count_12_mon</th>\n",
       "      <th>Credit_Limit</th>\n",
       "      <th>Total_Revolving_Bal</th>\n",
       "      <th>Avg_Open_To_Buy</th>\n",
       "      <th>Total_Amt_Chng_Q4_Q1</th>\n",
       "      <th>Total_Trans_Amt</th>\n",
       "      <th>Total_Trans_Ct</th>\n",
       "      <th>Total_Ct_Chng_Q4_Q1</th>\n",
       "      <th>Avg_Utilization_Ratio</th>\n",
       "    </tr>\n",
       "  </thead>\n",
       "  <tbody>\n",
       "    <tr>\n",
       "      <th>0</th>\n",
       "      <td>0</td>\n",
       "      <td>45</td>\n",
       "      <td>1</td>\n",
       "      <td>3</td>\n",
       "      <td>High School</td>\n",
       "      <td>Married</td>\n",
       "      <td>$60K - $80K</td>\n",
       "      <td>Blue</td>\n",
       "      <td>39</td>\n",
       "      <td>5</td>\n",
       "      <td>1</td>\n",
       "      <td>3</td>\n",
       "      <td>12691.0</td>\n",
       "      <td>777</td>\n",
       "      <td>11914.0</td>\n",
       "      <td>1.335</td>\n",
       "      <td>1144</td>\n",
       "      <td>42</td>\n",
       "      <td>1.625</td>\n",
       "      <td>0.061</td>\n",
       "    </tr>\n",
       "    <tr>\n",
       "      <th>1</th>\n",
       "      <td>0</td>\n",
       "      <td>49</td>\n",
       "      <td>0</td>\n",
       "      <td>5</td>\n",
       "      <td>Graduate</td>\n",
       "      <td>Single</td>\n",
       "      <td>Less than $40K</td>\n",
       "      <td>Blue</td>\n",
       "      <td>44</td>\n",
       "      <td>6</td>\n",
       "      <td>1</td>\n",
       "      <td>2</td>\n",
       "      <td>8256.0</td>\n",
       "      <td>864</td>\n",
       "      <td>7392.0</td>\n",
       "      <td>1.541</td>\n",
       "      <td>1291</td>\n",
       "      <td>33</td>\n",
       "      <td>3.714</td>\n",
       "      <td>0.105</td>\n",
       "    </tr>\n",
       "    <tr>\n",
       "      <th>2</th>\n",
       "      <td>0</td>\n",
       "      <td>51</td>\n",
       "      <td>1</td>\n",
       "      <td>3</td>\n",
       "      <td>Graduate</td>\n",
       "      <td>Married</td>\n",
       "      <td>$80K - $120K</td>\n",
       "      <td>Blue</td>\n",
       "      <td>36</td>\n",
       "      <td>4</td>\n",
       "      <td>1</td>\n",
       "      <td>0</td>\n",
       "      <td>3418.0</td>\n",
       "      <td>0</td>\n",
       "      <td>3418.0</td>\n",
       "      <td>2.594</td>\n",
       "      <td>1887</td>\n",
       "      <td>20</td>\n",
       "      <td>2.333</td>\n",
       "      <td>0.000</td>\n",
       "    </tr>\n",
       "    <tr>\n",
       "      <th>3</th>\n",
       "      <td>0</td>\n",
       "      <td>40</td>\n",
       "      <td>0</td>\n",
       "      <td>4</td>\n",
       "      <td>High School</td>\n",
       "      <td>Unknown</td>\n",
       "      <td>Less than $40K</td>\n",
       "      <td>Blue</td>\n",
       "      <td>34</td>\n",
       "      <td>3</td>\n",
       "      <td>4</td>\n",
       "      <td>1</td>\n",
       "      <td>3313.0</td>\n",
       "      <td>2517</td>\n",
       "      <td>796.0</td>\n",
       "      <td>1.405</td>\n",
       "      <td>1171</td>\n",
       "      <td>20</td>\n",
       "      <td>2.333</td>\n",
       "      <td>0.760</td>\n",
       "    </tr>\n",
       "    <tr>\n",
       "      <th>4</th>\n",
       "      <td>0</td>\n",
       "      <td>40</td>\n",
       "      <td>1</td>\n",
       "      <td>3</td>\n",
       "      <td>Uneducated</td>\n",
       "      <td>Married</td>\n",
       "      <td>$60K - $80K</td>\n",
       "      <td>Blue</td>\n",
       "      <td>21</td>\n",
       "      <td>5</td>\n",
       "      <td>1</td>\n",
       "      <td>0</td>\n",
       "      <td>4716.0</td>\n",
       "      <td>0</td>\n",
       "      <td>4716.0</td>\n",
       "      <td>2.175</td>\n",
       "      <td>816</td>\n",
       "      <td>28</td>\n",
       "      <td>2.500</td>\n",
       "      <td>0.000</td>\n",
       "    </tr>\n",
       "  </tbody>\n",
       "</table>\n",
       "</div>"
      ],
      "text/plain": [
       "   Attrition_Flag  Customer_Age  Gender  Dependent_count Education_Level  \\\n",
       "0               0            45       1                3     High School   \n",
       "1               0            49       0                5        Graduate   \n",
       "2               0            51       1                3        Graduate   \n",
       "3               0            40       0                4     High School   \n",
       "4               0            40       1                3      Uneducated   \n",
       "\n",
       "  Marital_Status Income_Category Card_Category  Months_on_book  \\\n",
       "0        Married     $60K - $80K          Blue              39   \n",
       "1         Single  Less than $40K          Blue              44   \n",
       "2        Married    $80K - $120K          Blue              36   \n",
       "3        Unknown  Less than $40K          Blue              34   \n",
       "4        Married     $60K - $80K          Blue              21   \n",
       "\n",
       "   Total_Relationship_Count  Months_Inactive_12_mon  Contacts_Count_12_mon  \\\n",
       "0                         5                       1                      3   \n",
       "1                         6                       1                      2   \n",
       "2                         4                       1                      0   \n",
       "3                         3                       4                      1   \n",
       "4                         5                       1                      0   \n",
       "\n",
       "   Credit_Limit  Total_Revolving_Bal  Avg_Open_To_Buy  Total_Amt_Chng_Q4_Q1  \\\n",
       "0       12691.0                  777          11914.0                 1.335   \n",
       "1        8256.0                  864           7392.0                 1.541   \n",
       "2        3418.0                    0           3418.0                 2.594   \n",
       "3        3313.0                 2517            796.0                 1.405   \n",
       "4        4716.0                    0           4716.0                 2.175   \n",
       "\n",
       "   Total_Trans_Amt  Total_Trans_Ct  Total_Ct_Chng_Q4_Q1  Avg_Utilization_Ratio  \n",
       "0             1144              42                1.625                  0.061  \n",
       "1             1291              33                3.714                  0.105  \n",
       "2             1887              20                2.333                  0.000  \n",
       "3             1171              20                2.333                  0.760  \n",
       "4              816              28                2.500                  0.000  "
      ]
     },
     "execution_count": 12,
     "metadata": {},
     "output_type": "execute_result"
    }
   ],
   "source": [
    "df.head()"
   ]
  },
  {
   "cell_type": "code",
   "execution_count": 13,
   "metadata": {
    "execution": {
     "iopub.execute_input": "2021-03-09T16:50:50.380570Z",
     "iopub.status.busy": "2021-03-09T16:50:50.379892Z",
     "iopub.status.idle": "2021-03-09T16:50:50.417959Z",
     "shell.execute_reply": "2021-03-09T16:50:50.417352Z"
    },
    "papermill": {
     "duration": 0.080963,
     "end_time": "2021-03-09T16:50:50.418107",
     "exception": false,
     "start_time": "2021-03-09T16:50:50.337144",
     "status": "completed"
    },
    "tags": []
   },
   "outputs": [
    {
     "data": {
      "text/html": [
       "<div>\n",
       "<style scoped>\n",
       "    .dataframe tbody tr th:only-of-type {\n",
       "        vertical-align: middle;\n",
       "    }\n",
       "\n",
       "    .dataframe tbody tr th {\n",
       "        vertical-align: top;\n",
       "    }\n",
       "\n",
       "    .dataframe thead th {\n",
       "        text-align: right;\n",
       "    }\n",
       "</style>\n",
       "<table border=\"1\" class=\"dataframe\">\n",
       "  <thead>\n",
       "    <tr style=\"text-align: right;\">\n",
       "      <th></th>\n",
       "      <th>Attrition_Flag</th>\n",
       "      <th>Customer_Age</th>\n",
       "      <th>Gender</th>\n",
       "      <th>Dependent_count</th>\n",
       "      <th>Months_on_book</th>\n",
       "      <th>Total_Relationship_Count</th>\n",
       "      <th>Months_Inactive_12_mon</th>\n",
       "      <th>Contacts_Count_12_mon</th>\n",
       "      <th>Credit_Limit</th>\n",
       "      <th>Total_Revolving_Bal</th>\n",
       "      <th>Avg_Open_To_Buy</th>\n",
       "      <th>Total_Amt_Chng_Q4_Q1</th>\n",
       "      <th>Total_Trans_Amt</th>\n",
       "      <th>Total_Trans_Ct</th>\n",
       "      <th>Total_Ct_Chng_Q4_Q1</th>\n",
       "      <th>Avg_Utilization_Ratio</th>\n",
       "      <th>Education_Level_College</th>\n",
       "      <th>Education_Level_Doctorate</th>\n",
       "      <th>Education_Level_Graduate</th>\n",
       "      <th>Education_Level_High School</th>\n",
       "      <th>Education_Level_Post-Graduate</th>\n",
       "      <th>Education_Level_Uneducated</th>\n",
       "      <th>Education_Level_Unknown</th>\n",
       "      <th>Marital_Status_Divorced</th>\n",
       "      <th>Marital_Status_Married</th>\n",
       "      <th>Marital_Status_Single</th>\n",
       "      <th>Marital_Status_Unknown</th>\n",
       "      <th>Income_Category_$120K +</th>\n",
       "      <th>Income_Category_$40K - $60K</th>\n",
       "      <th>Income_Category_$60K - $80K</th>\n",
       "      <th>Income_Category_$80K - $120K</th>\n",
       "      <th>Income_Category_Less than $40K</th>\n",
       "      <th>Income_Category_Unknown</th>\n",
       "      <th>Card_Category_Blue</th>\n",
       "      <th>Card_Category_Gold</th>\n",
       "      <th>Card_Category_Platinum</th>\n",
       "      <th>Card_Category_Silver</th>\n",
       "    </tr>\n",
       "  </thead>\n",
       "  <tbody>\n",
       "    <tr>\n",
       "      <th>0</th>\n",
       "      <td>0</td>\n",
       "      <td>45</td>\n",
       "      <td>1</td>\n",
       "      <td>3</td>\n",
       "      <td>39</td>\n",
       "      <td>5</td>\n",
       "      <td>1</td>\n",
       "      <td>3</td>\n",
       "      <td>12691.0</td>\n",
       "      <td>777</td>\n",
       "      <td>11914.0</td>\n",
       "      <td>1.335</td>\n",
       "      <td>1144</td>\n",
       "      <td>42</td>\n",
       "      <td>1.625</td>\n",
       "      <td>0.061</td>\n",
       "      <td>0</td>\n",
       "      <td>0</td>\n",
       "      <td>0</td>\n",
       "      <td>1</td>\n",
       "      <td>0</td>\n",
       "      <td>0</td>\n",
       "      <td>0</td>\n",
       "      <td>0</td>\n",
       "      <td>1</td>\n",
       "      <td>0</td>\n",
       "      <td>0</td>\n",
       "      <td>0</td>\n",
       "      <td>0</td>\n",
       "      <td>1</td>\n",
       "      <td>0</td>\n",
       "      <td>0</td>\n",
       "      <td>0</td>\n",
       "      <td>1</td>\n",
       "      <td>0</td>\n",
       "      <td>0</td>\n",
       "      <td>0</td>\n",
       "    </tr>\n",
       "    <tr>\n",
       "      <th>1</th>\n",
       "      <td>0</td>\n",
       "      <td>49</td>\n",
       "      <td>0</td>\n",
       "      <td>5</td>\n",
       "      <td>44</td>\n",
       "      <td>6</td>\n",
       "      <td>1</td>\n",
       "      <td>2</td>\n",
       "      <td>8256.0</td>\n",
       "      <td>864</td>\n",
       "      <td>7392.0</td>\n",
       "      <td>1.541</td>\n",
       "      <td>1291</td>\n",
       "      <td>33</td>\n",
       "      <td>3.714</td>\n",
       "      <td>0.105</td>\n",
       "      <td>0</td>\n",
       "      <td>0</td>\n",
       "      <td>1</td>\n",
       "      <td>0</td>\n",
       "      <td>0</td>\n",
       "      <td>0</td>\n",
       "      <td>0</td>\n",
       "      <td>0</td>\n",
       "      <td>0</td>\n",
       "      <td>1</td>\n",
       "      <td>0</td>\n",
       "      <td>0</td>\n",
       "      <td>0</td>\n",
       "      <td>0</td>\n",
       "      <td>0</td>\n",
       "      <td>1</td>\n",
       "      <td>0</td>\n",
       "      <td>1</td>\n",
       "      <td>0</td>\n",
       "      <td>0</td>\n",
       "      <td>0</td>\n",
       "    </tr>\n",
       "    <tr>\n",
       "      <th>2</th>\n",
       "      <td>0</td>\n",
       "      <td>51</td>\n",
       "      <td>1</td>\n",
       "      <td>3</td>\n",
       "      <td>36</td>\n",
       "      <td>4</td>\n",
       "      <td>1</td>\n",
       "      <td>0</td>\n",
       "      <td>3418.0</td>\n",
       "      <td>0</td>\n",
       "      <td>3418.0</td>\n",
       "      <td>2.594</td>\n",
       "      <td>1887</td>\n",
       "      <td>20</td>\n",
       "      <td>2.333</td>\n",
       "      <td>0.000</td>\n",
       "      <td>0</td>\n",
       "      <td>0</td>\n",
       "      <td>1</td>\n",
       "      <td>0</td>\n",
       "      <td>0</td>\n",
       "      <td>0</td>\n",
       "      <td>0</td>\n",
       "      <td>0</td>\n",
       "      <td>1</td>\n",
       "      <td>0</td>\n",
       "      <td>0</td>\n",
       "      <td>0</td>\n",
       "      <td>0</td>\n",
       "      <td>0</td>\n",
       "      <td>1</td>\n",
       "      <td>0</td>\n",
       "      <td>0</td>\n",
       "      <td>1</td>\n",
       "      <td>0</td>\n",
       "      <td>0</td>\n",
       "      <td>0</td>\n",
       "    </tr>\n",
       "    <tr>\n",
       "      <th>3</th>\n",
       "      <td>0</td>\n",
       "      <td>40</td>\n",
       "      <td>0</td>\n",
       "      <td>4</td>\n",
       "      <td>34</td>\n",
       "      <td>3</td>\n",
       "      <td>4</td>\n",
       "      <td>1</td>\n",
       "      <td>3313.0</td>\n",
       "      <td>2517</td>\n",
       "      <td>796.0</td>\n",
       "      <td>1.405</td>\n",
       "      <td>1171</td>\n",
       "      <td>20</td>\n",
       "      <td>2.333</td>\n",
       "      <td>0.760</td>\n",
       "      <td>0</td>\n",
       "      <td>0</td>\n",
       "      <td>0</td>\n",
       "      <td>1</td>\n",
       "      <td>0</td>\n",
       "      <td>0</td>\n",
       "      <td>0</td>\n",
       "      <td>0</td>\n",
       "      <td>0</td>\n",
       "      <td>0</td>\n",
       "      <td>1</td>\n",
       "      <td>0</td>\n",
       "      <td>0</td>\n",
       "      <td>0</td>\n",
       "      <td>0</td>\n",
       "      <td>1</td>\n",
       "      <td>0</td>\n",
       "      <td>1</td>\n",
       "      <td>0</td>\n",
       "      <td>0</td>\n",
       "      <td>0</td>\n",
       "    </tr>\n",
       "    <tr>\n",
       "      <th>4</th>\n",
       "      <td>0</td>\n",
       "      <td>40</td>\n",
       "      <td>1</td>\n",
       "      <td>3</td>\n",
       "      <td>21</td>\n",
       "      <td>5</td>\n",
       "      <td>1</td>\n",
       "      <td>0</td>\n",
       "      <td>4716.0</td>\n",
       "      <td>0</td>\n",
       "      <td>4716.0</td>\n",
       "      <td>2.175</td>\n",
       "      <td>816</td>\n",
       "      <td>28</td>\n",
       "      <td>2.500</td>\n",
       "      <td>0.000</td>\n",
       "      <td>0</td>\n",
       "      <td>0</td>\n",
       "      <td>0</td>\n",
       "      <td>0</td>\n",
       "      <td>0</td>\n",
       "      <td>1</td>\n",
       "      <td>0</td>\n",
       "      <td>0</td>\n",
       "      <td>1</td>\n",
       "      <td>0</td>\n",
       "      <td>0</td>\n",
       "      <td>0</td>\n",
       "      <td>0</td>\n",
       "      <td>1</td>\n",
       "      <td>0</td>\n",
       "      <td>0</td>\n",
       "      <td>0</td>\n",
       "      <td>1</td>\n",
       "      <td>0</td>\n",
       "      <td>0</td>\n",
       "      <td>0</td>\n",
       "    </tr>\n",
       "  </tbody>\n",
       "</table>\n",
       "</div>"
      ],
      "text/plain": [
       "   Attrition_Flag  Customer_Age  Gender  Dependent_count  Months_on_book  \\\n",
       "0               0            45       1                3              39   \n",
       "1               0            49       0                5              44   \n",
       "2               0            51       1                3              36   \n",
       "3               0            40       0                4              34   \n",
       "4               0            40       1                3              21   \n",
       "\n",
       "   Total_Relationship_Count  Months_Inactive_12_mon  Contacts_Count_12_mon  \\\n",
       "0                         5                       1                      3   \n",
       "1                         6                       1                      2   \n",
       "2                         4                       1                      0   \n",
       "3                         3                       4                      1   \n",
       "4                         5                       1                      0   \n",
       "\n",
       "   Credit_Limit  Total_Revolving_Bal  Avg_Open_To_Buy  Total_Amt_Chng_Q4_Q1  \\\n",
       "0       12691.0                  777          11914.0                 1.335   \n",
       "1        8256.0                  864           7392.0                 1.541   \n",
       "2        3418.0                    0           3418.0                 2.594   \n",
       "3        3313.0                 2517            796.0                 1.405   \n",
       "4        4716.0                    0           4716.0                 2.175   \n",
       "\n",
       "   Total_Trans_Amt  Total_Trans_Ct  Total_Ct_Chng_Q4_Q1  \\\n",
       "0             1144              42                1.625   \n",
       "1             1291              33                3.714   \n",
       "2             1887              20                2.333   \n",
       "3             1171              20                2.333   \n",
       "4              816              28                2.500   \n",
       "\n",
       "   Avg_Utilization_Ratio  Education_Level_College  Education_Level_Doctorate  \\\n",
       "0                  0.061                        0                          0   \n",
       "1                  0.105                        0                          0   \n",
       "2                  0.000                        0                          0   \n",
       "3                  0.760                        0                          0   \n",
       "4                  0.000                        0                          0   \n",
       "\n",
       "   Education_Level_Graduate  Education_Level_High School  \\\n",
       "0                         0                            1   \n",
       "1                         1                            0   \n",
       "2                         1                            0   \n",
       "3                         0                            1   \n",
       "4                         0                            0   \n",
       "\n",
       "   Education_Level_Post-Graduate  Education_Level_Uneducated  \\\n",
       "0                              0                           0   \n",
       "1                              0                           0   \n",
       "2                              0                           0   \n",
       "3                              0                           0   \n",
       "4                              0                           1   \n",
       "\n",
       "   Education_Level_Unknown  Marital_Status_Divorced  Marital_Status_Married  \\\n",
       "0                        0                        0                       1   \n",
       "1                        0                        0                       0   \n",
       "2                        0                        0                       1   \n",
       "3                        0                        0                       0   \n",
       "4                        0                        0                       1   \n",
       "\n",
       "   Marital_Status_Single  Marital_Status_Unknown  Income_Category_$120K +  \\\n",
       "0                      0                       0                        0   \n",
       "1                      1                       0                        0   \n",
       "2                      0                       0                        0   \n",
       "3                      0                       1                        0   \n",
       "4                      0                       0                        0   \n",
       "\n",
       "   Income_Category_$40K - $60K  Income_Category_$60K - $80K  \\\n",
       "0                            0                            1   \n",
       "1                            0                            0   \n",
       "2                            0                            0   \n",
       "3                            0                            0   \n",
       "4                            0                            1   \n",
       "\n",
       "   Income_Category_$80K - $120K  Income_Category_Less than $40K  \\\n",
       "0                             0                               0   \n",
       "1                             0                               1   \n",
       "2                             1                               0   \n",
       "3                             0                               1   \n",
       "4                             0                               0   \n",
       "\n",
       "   Income_Category_Unknown  Card_Category_Blue  Card_Category_Gold  \\\n",
       "0                        0                   1                   0   \n",
       "1                        0                   1                   0   \n",
       "2                        0                   1                   0   \n",
       "3                        0                   1                   0   \n",
       "4                        0                   1                   0   \n",
       "\n",
       "   Card_Category_Platinum  Card_Category_Silver  \n",
       "0                       0                     0  \n",
       "1                       0                     0  \n",
       "2                       0                     0  \n",
       "3                       0                     0  \n",
       "4                       0                     0  "
      ]
     },
     "execution_count": 13,
     "metadata": {},
     "output_type": "execute_result"
    }
   ],
   "source": [
    "#One hot encoding for Categorical variables\n",
    "df = pd.get_dummies(df)\n",
    "df.head()"
   ]
  },
  {
   "cell_type": "markdown",
   "metadata": {
    "papermill": {
     "duration": 0.038686,
     "end_time": "2021-03-09T16:50:50.495305",
     "exception": false,
     "start_time": "2021-03-09T16:50:50.456619",
     "status": "completed"
    },
    "tags": []
   },
   "source": [
    "## 2.2. Train-Test split"
   ]
  },
  {
   "cell_type": "code",
   "execution_count": 14,
   "metadata": {
    "execution": {
     "iopub.execute_input": "2021-03-09T16:50:50.577690Z",
     "iopub.status.busy": "2021-03-09T16:50:50.577047Z",
     "iopub.status.idle": "2021-03-09T16:50:50.592917Z",
     "shell.execute_reply": "2021-03-09T16:50:50.593376Z"
    },
    "papermill": {
     "duration": 0.060666,
     "end_time": "2021-03-09T16:50:50.593566",
     "exception": false,
     "start_time": "2021-03-09T16:50:50.532900",
     "status": "completed"
    },
    "tags": []
   },
   "outputs": [],
   "source": [
    "# Split data into train and test Datasets\n",
    "\n",
    "# Separate the dataset into features and target\n",
    "X = df.drop([\"Attrition_Flag\"],axis=1)\n",
    "y = df[\"Attrition_Flag\"]\n",
    "\n",
    "# Splitting the data into train and test\n",
    "X_train, X_test, y_train, y_test = train_test_split(X, y, test_size=.30, stratify=y, random_state=101)"
   ]
  },
  {
   "cell_type": "code",
   "execution_count": 15,
   "metadata": {
    "execution": {
     "iopub.execute_input": "2021-03-09T16:50:50.676525Z",
     "iopub.status.busy": "2021-03-09T16:50:50.675889Z",
     "iopub.status.idle": "2021-03-09T16:50:50.692829Z",
     "shell.execute_reply": "2021-03-09T16:50:50.692025Z"
    },
    "papermill": {
     "duration": 0.061527,
     "end_time": "2021-03-09T16:50:50.692983",
     "exception": false,
     "start_time": "2021-03-09T16:50:50.631456",
     "status": "completed"
    },
    "tags": []
   },
   "outputs": [],
   "source": [
    "# Scale the data\n",
    "\n",
    "# Standardize the columns the values of which are out of 0-1 range\n",
    "scaler = StandardScaler().fit(X_train)\n",
    "\n",
    "X_train = scaler.transform(X_train)\n",
    "X_test = scaler.transform(X_test)"
   ]
  },
  {
   "cell_type": "code",
   "execution_count": 16,
   "metadata": {
    "execution": {
     "iopub.execute_input": "2021-03-09T16:50:50.775134Z",
     "iopub.status.busy": "2021-03-09T16:50:50.773438Z",
     "iopub.status.idle": "2021-03-09T16:50:50.779330Z",
     "shell.execute_reply": "2021-03-09T16:50:50.779767Z"
    },
    "papermill": {
     "duration": 0.049116,
     "end_time": "2021-03-09T16:50:50.779945",
     "exception": false,
     "start_time": "2021-03-09T16:50:50.730829",
     "status": "completed"
    },
    "tags": []
   },
   "outputs": [
    {
     "data": {
      "text/plain": [
       "0    8500\n",
       "1    1627\n",
       "Name: Attrition_Flag, dtype: int64"
      ]
     },
     "execution_count": 16,
     "metadata": {},
     "output_type": "execute_result"
    }
   ],
   "source": [
    "# Check the data balance\n",
    "\n",
    "# Count the number of churn (=1)\n",
    "y.value_counts()"
   ]
  },
  {
   "cell_type": "code",
   "execution_count": 17,
   "metadata": {
    "execution": {
     "iopub.execute_input": "2021-03-09T16:50:50.861047Z",
     "iopub.status.busy": "2021-03-09T16:50:50.860359Z",
     "iopub.status.idle": "2021-03-09T16:50:50.867056Z",
     "shell.execute_reply": "2021-03-09T16:50:50.866435Z"
    },
    "papermill": {
     "duration": 0.049259,
     "end_time": "2021-03-09T16:50:50.867202",
     "exception": false,
     "start_time": "2021-03-09T16:50:50.817943",
     "status": "completed"
    },
    "tags": []
   },
   "outputs": [
    {
     "data": {
      "text/plain": [
       "16.065962279055988"
      ]
     },
     "execution_count": 17,
     "metadata": {},
     "output_type": "execute_result"
    }
   ],
   "source": [
    "### Check the churn rate\n",
    "churn_rate = (sum(df['Attrition_Flag'])/len(df['Attrition_Flag'].index))*100\n",
    "churn_rate"
   ]
  },
  {
   "cell_type": "markdown",
   "metadata": {
    "papermill": {
     "duration": 0.044625,
     "end_time": "2021-03-09T16:50:50.951443",
     "exception": false,
     "start_time": "2021-03-09T16:50:50.906818",
     "status": "completed"
    },
    "tags": []
   },
   "source": [
    "The employee churn rate is 23.8. We can say that it is an imbalanced dataset."
   ]
  },
  {
   "cell_type": "markdown",
   "metadata": {
    "papermill": {
     "duration": 0.038848,
     "end_time": "2021-03-09T16:50:51.029305",
     "exception": false,
     "start_time": "2021-03-09T16:50:50.990457",
     "status": "completed"
    },
    "tags": []
   },
   "source": [
    "## 3. Prediction with Imbalanced Data: Baseline models"
   ]
  },
  {
   "cell_type": "markdown",
   "metadata": {
    "papermill": {
     "duration": 0.03883,
     "end_time": "2021-03-09T16:50:51.106877",
     "exception": false,
     "start_time": "2021-03-09T16:50:51.068047",
     "status": "completed"
    },
    "tags": []
   },
   "source": [
    "## 3.1.Logistic Regression with Imbalanced Data"
   ]
  },
  {
   "cell_type": "code",
   "execution_count": 18,
   "metadata": {
    "execution": {
     "iopub.execute_input": "2021-03-09T16:50:51.194299Z",
     "iopub.status.busy": "2021-03-09T16:50:51.193273Z",
     "iopub.status.idle": "2021-03-09T16:50:51.270334Z",
     "shell.execute_reply": "2021-03-09T16:50:51.271127Z"
    },
    "papermill": {
     "duration": 0.124173,
     "end_time": "2021-03-09T16:50:51.271402",
     "exception": false,
     "start_time": "2021-03-09T16:50:51.147229",
     "status": "completed"
    },
    "tags": []
   },
   "outputs": [
    {
     "name": "stdout",
     "output_type": "stream",
     "text": [
      "Logistic Regression: Imbalanced Data\n",
      " - Accuracy :  0.904\n",
      " - Precision:  0.767\n",
      " - Recall   :  0.574\n",
      " - F1 score :  0.657\n",
      " - AUC score:  0.920\n",
      "Confusion Matrix\n",
      "[[2466   85]\n",
      " [ 208  280]]\n"
     ]
    }
   ],
   "source": [
    "# Initiate the model\n",
    "base_lm = LogisticRegression()\n",
    "# Fit the model\n",
    "base_lm_model = base_lm.fit(X_train, y_train.ravel())\n",
    "# Make Predictions\n",
    "base_lm_pred=base_lm_model.predict(X_test)\n",
    "\n",
    "# Calculate Accuracy, Precision, Recall, and F1 score\n",
    "base_lm_accuracy = accuracy_score(y_test, base_lm_pred)\n",
    "base_lm_precision = precision_score(y_test, base_lm_pred)\n",
    "base_lm_recall = recall_score(y_test, base_lm_pred)\n",
    "base_lm_f1 = 2 * (base_lm_precision * base_lm_recall) / (base_lm_precision + base_lm_recall)\n",
    "\n",
    "# Calculate AUC score\n",
    "base_lm_probs = base_lm.predict_proba(X_test)\n",
    "base_lm_probs = base_lm_probs[:,1]\n",
    "base_lm_auc = roc_auc_score(y_test, base_lm_probs)\n",
    "\n",
    "# Display the metrics\n",
    "print(\"Logistic Regression: Imbalanced Data\")\n",
    "print(\" - Accuracy : \",'{:.3f}'.format(base_lm_accuracy))\n",
    "print(\" - Precision: \",'{:.3f}'.format(base_lm_precision))\n",
    "print(\" - Recall   : \",'{:.3f}'.format(base_lm_recall))\n",
    "print(\" - F1 score : \",'{:.3f}'.format(base_lm_f1))\n",
    "print(\" - AUC score: \",'{:.3f}'.format(base_lm_auc))\n",
    "\n",
    "# Display the confusion matrix\n",
    "print(\"Confusion Matrix\")\n",
    "print(confusion_matrix(y_test,base_lm_pred))"
   ]
  },
  {
   "cell_type": "markdown",
   "metadata": {
    "papermill": {
     "duration": 0.049249,
     "end_time": "2021-03-09T16:50:51.398250",
     "exception": false,
     "start_time": "2021-03-09T16:50:51.349001",
     "status": "completed"
    },
    "tags": []
   },
   "source": [
    "## 3.2. KNN with Imbalanced Data"
   ]
  },
  {
   "cell_type": "code",
   "execution_count": 19,
   "metadata": {
    "execution": {
     "iopub.execute_input": "2021-03-09T16:50:51.485675Z",
     "iopub.status.busy": "2021-03-09T16:50:51.484926Z",
     "iopub.status.idle": "2021-03-09T16:50:54.596593Z",
     "shell.execute_reply": "2021-03-09T16:50:54.597607Z"
    },
    "papermill": {
     "duration": 3.16043,
     "end_time": "2021-03-09T16:50:54.597907",
     "exception": false,
     "start_time": "2021-03-09T16:50:51.437477",
     "status": "completed"
    },
    "tags": []
   },
   "outputs": [
    {
     "name": "stdout",
     "output_type": "stream",
     "text": [
      "KNN Classifier: Imbalanced Data\n",
      " - Accuracy :  0.871\n",
      " - Precision:  0.740\n",
      " - Recall   :  0.303\n",
      " - F1 score :  0.430\n",
      " - AUC score:  0.794\n",
      "Confusion Matrix\n",
      "[[2499   52]\n",
      " [ 340  148]]\n"
     ]
    }
   ],
   "source": [
    "# Initiate the model\n",
    "base_knn = KNeighborsClassifier()\n",
    "# Fit the model\n",
    "base_knn_model = base_knn.fit(X_train, y_train.ravel())\n",
    "# Make Predictions\n",
    "base_knn_pred=base_knn_model.predict(X_test)\n",
    "\n",
    "# Calculate Accuracy, Precision, Recall, and F1 score\n",
    "base_knn_accuracy = accuracy_score(y_test, base_knn_pred)\n",
    "base_knn_precision = precision_score(y_test, base_knn_pred)\n",
    "base_knn_recall = recall_score(y_test, base_knn_pred)\n",
    "base_knn_f1 = 2 * (base_knn_precision * base_knn_recall) / (base_knn_precision + base_knn_recall)\n",
    "\n",
    "# Calculate AUC score\n",
    "base_knn_probs = base_knn.predict_proba(X_test)\n",
    "base_knn_probs = base_knn_probs[:,1]\n",
    "base_knn_auc = roc_auc_score(y_test, base_knn_probs)\n",
    "\n",
    "# Display the metrics\n",
    "print(\"KNN Classifier: Imbalanced Data\")\n",
    "print(\" - Accuracy : \",'{:.3f}'.format(base_knn_accuracy))\n",
    "print(\" - Precision: \",'{:.3f}'.format(base_knn_precision))\n",
    "print(\" - Recall   : \",'{:.3f}'.format(base_knn_recall))\n",
    "print(\" - F1 score : \",'{:.3f}'.format(base_knn_f1))\n",
    "print(\" - AUC score: \",'{:.3f}'.format(base_knn_auc))\n",
    "\n",
    "# Display the confusion matrix\n",
    "print(\"Confusion Matrix\")\n",
    "print(confusion_matrix(y_test,base_knn_pred))"
   ]
  },
  {
   "cell_type": "markdown",
   "metadata": {
    "papermill": {
     "duration": 0.03927,
     "end_time": "2021-03-09T16:50:54.678566",
     "exception": false,
     "start_time": "2021-03-09T16:50:54.639296",
     "status": "completed"
    },
    "tags": []
   },
   "source": [
    "### 3.3. SVM with Imbalanced Data"
   ]
  },
  {
   "cell_type": "code",
   "execution_count": 20,
   "metadata": {
    "execution": {
     "iopub.execute_input": "2021-03-09T16:50:54.765643Z",
     "iopub.status.busy": "2021-03-09T16:50:54.765009Z",
     "iopub.status.idle": "2021-03-09T16:51:04.034086Z",
     "shell.execute_reply": "2021-03-09T16:51:04.033170Z"
    },
    "papermill": {
     "duration": 9.316351,
     "end_time": "2021-03-09T16:51:04.034309",
     "exception": false,
     "start_time": "2021-03-09T16:50:54.717958",
     "status": "completed"
    },
    "tags": []
   },
   "outputs": [
    {
     "name": "stdout",
     "output_type": "stream",
     "text": [
      "SVM Classifier: Imbalanced Data\n",
      " - Accuracy :  0.919\n",
      " - Precision:  0.869\n",
      " - Recall   :  0.586\n",
      " - F1 score :  0.700\n",
      " - AUC score:  0.943\n",
      "Confusion Matrix\n",
      "[[2508   43]\n",
      " [ 202  286]]\n"
     ]
    }
   ],
   "source": [
    "# Initiate the model\n",
    "base_svc = SVC(kernel='rbf',probability=True)\n",
    "# Fit the model\n",
    "base_svc_model = base_svc.fit(X_train, y_train.ravel())\n",
    "# Make Predictions\n",
    "base_svc_pred = base_svc_model.predict(X_test)\n",
    "\n",
    "# Calculate Accuracy, Precision, Recall, and F1 score\n",
    "base_svc_accuracy = accuracy_score(y_test, base_svc_pred)\n",
    "base_svc_precision = precision_score(y_test, base_svc_pred)\n",
    "base_svc_recall = recall_score(y_test, base_svc_pred)\n",
    "base_svc_f1 = 2 * (base_svc_precision * base_svc_recall) / (base_svc_precision + base_svc_recall)\n",
    "\n",
    "# Calculate AUC score\n",
    "base_svc_probs = base_svc.predict_proba(X_test)\n",
    "base_svc_probs = base_svc_probs[:,1]\n",
    "base_svc_auc = roc_auc_score(y_test, base_svc_probs)\n",
    "\n",
    "# Display the metrics\n",
    "print(\"SVM Classifier: Imbalanced Data\")\n",
    "print(\" - Accuracy : \",'{:.3f}'.format(base_svc_accuracy))\n",
    "print(\" - Precision: \",'{:.3f}'.format(base_svc_precision))\n",
    "print(\" - Recall   : \",'{:.3f}'.format(base_svc_recall))\n",
    "print(\" - F1 score : \",'{:.3f}'.format(base_svc_f1))\n",
    "print(\" - AUC score: \",'{:.3f}'.format(base_svc_auc))\n",
    "\n",
    "# Display the confusion matrix\n",
    "print(\"Confusion Matrix\")\n",
    "print(confusion_matrix(y_test,base_svc_pred))"
   ]
  },
  {
   "cell_type": "markdown",
   "metadata": {
    "papermill": {
     "duration": 0.041158,
     "end_time": "2021-03-09T16:51:04.117492",
     "exception": false,
     "start_time": "2021-03-09T16:51:04.076334",
     "status": "completed"
    },
    "tags": []
   },
   "source": [
    "### 3.4. Decision Tree with Imbalanced Data"
   ]
  },
  {
   "cell_type": "code",
   "execution_count": 21,
   "metadata": {
    "execution": {
     "iopub.execute_input": "2021-03-09T16:51:04.208971Z",
     "iopub.status.busy": "2021-03-09T16:51:04.208147Z",
     "iopub.status.idle": "2021-03-09T16:51:04.309060Z",
     "shell.execute_reply": "2021-03-09T16:51:04.310206Z"
    },
    "papermill": {
     "duration": 0.150653,
     "end_time": "2021-03-09T16:51:04.310402",
     "exception": false,
     "start_time": "2021-03-09T16:51:04.159749",
     "status": "completed"
    },
    "tags": []
   },
   "outputs": [
    {
     "name": "stdout",
     "output_type": "stream",
     "text": [
      "Decision Tree Classifier: Imbalanced Data\n",
      " - Accuracy :  0.938\n",
      " - Precision:  0.816\n",
      " - Recall   :  0.791\n",
      " - F1 score :  0.803\n",
      " - AUC score:  0.878\n",
      "Confusion Matrix\n",
      "[[2464   87]\n",
      " [ 102  386]]\n"
     ]
    }
   ],
   "source": [
    "# Initiate the model\n",
    "base_tree = DecisionTreeClassifier()\n",
    "# Fit the model\n",
    "base_tree_model = base_tree.fit(X_train, y_train.ravel())\n",
    "# Make Predictions\n",
    "base_tree_pred=base_tree_model.predict(X_test)\n",
    "\n",
    "# Calculate Accuracy, Precision, Recall, and F1 score\n",
    "base_tree_accuracy = accuracy_score(y_test, base_tree_pred)\n",
    "base_tree_precision = precision_score(y_test, base_tree_pred)\n",
    "base_tree_recall = recall_score(y_test, base_tree_pred)\n",
    "base_tree_f1 = 2 * (base_tree_precision * base_tree_recall) / (base_tree_precision + base_tree_recall)\n",
    "\n",
    "# Calculate AUC score\n",
    "base_tree_probs = base_tree.predict_proba(X_test)\n",
    "base_tree_probs = base_tree_probs[:,1]\n",
    "base_tree_auc = roc_auc_score(y_test, base_tree_probs)\n",
    "\n",
    "# Display the metrics\n",
    "print(\"Decision Tree Classifier: Imbalanced Data\")\n",
    "print(\" - Accuracy : \",'{:.3f}'.format(base_tree_accuracy))\n",
    "print(\" - Precision: \",'{:.3f}'.format(base_tree_precision))\n",
    "print(\" - Recall   : \",'{:.3f}'.format(base_tree_recall))\n",
    "print(\" - F1 score : \",'{:.3f}'.format(base_tree_f1))\n",
    "print(\" - AUC score: \",'{:.3f}'.format(base_tree_auc))\n",
    "\n",
    "# Display the confusion matrix\n",
    "print(\"Confusion Matrix\")\n",
    "print(confusion_matrix(y_test,base_tree_pred))"
   ]
  },
  {
   "cell_type": "markdown",
   "metadata": {
    "papermill": {
     "duration": 0.042754,
     "end_time": "2021-03-09T16:51:04.395729",
     "exception": false,
     "start_time": "2021-03-09T16:51:04.352975",
     "status": "completed"
    },
    "tags": []
   },
   "source": [
    "### 3.5. Random Forest with Imbalanced Data"
   ]
  },
  {
   "cell_type": "code",
   "execution_count": 22,
   "metadata": {
    "execution": {
     "iopub.execute_input": "2021-03-09T16:51:04.487605Z",
     "iopub.status.busy": "2021-03-09T16:51:04.486484Z",
     "iopub.status.idle": "2021-03-09T16:51:05.775052Z",
     "shell.execute_reply": "2021-03-09T16:51:05.775733Z"
    },
    "papermill": {
     "duration": 1.338523,
     "end_time": "2021-03-09T16:51:05.775962",
     "exception": false,
     "start_time": "2021-03-09T16:51:04.437439",
     "status": "completed"
    },
    "tags": []
   },
   "outputs": [
    {
     "name": "stdout",
     "output_type": "stream",
     "text": [
      "Random Forest Classifier: Imbalanced Data\n",
      " - Accuracy :  0.956\n",
      " - Precision:  0.927\n",
      " - Recall   :  0.785\n",
      " - F1 score :  0.850\n",
      " - AUC score:  0.985\n",
      "Confusion Matrix\n",
      "[[2521   30]\n",
      " [ 105  383]]\n"
     ]
    }
   ],
   "source": [
    "# Initiate the model\n",
    "base_rfc = RandomForestClassifier()\n",
    "# Fit the model\n",
    "base_rfc_model = base_rfc.fit(X_train, y_train.ravel())\n",
    "# Make Predictions\n",
    "base_rfc_pred=base_rfc_model.predict(X_test)\n",
    "\n",
    "# Calculate Accuracy, Precision, Recall, and F1 score\n",
    "base_rfc_accuracy = accuracy_score(y_test, base_rfc_pred)\n",
    "base_rfc_precision = precision_score(y_test, base_rfc_pred)\n",
    "base_rfc_recall = recall_score(y_test, base_rfc_pred)\n",
    "base_rfc_f1 = 2 * (base_rfc_precision * base_rfc_recall) / (base_rfc_precision + base_rfc_recall)\n",
    "\n",
    "# Calculate AUC score\n",
    "base_rfc_probs = base_rfc.predict_proba(X_test)\n",
    "base_rfc_probs = base_rfc_probs[:,1]\n",
    "base_rfc_auc = roc_auc_score(y_test, base_rfc_probs)\n",
    "\n",
    "# Display the metrics\n",
    "print(\"Random Forest Classifier: Imbalanced Data\")\n",
    "print(\" - Accuracy : \",'{:.3f}'.format(base_rfc_accuracy))\n",
    "print(\" - Precision: \",'{:.3f}'.format(base_rfc_precision))\n",
    "print(\" - Recall   : \",'{:.3f}'.format(base_rfc_recall))\n",
    "print(\" - F1 score : \",'{:.3f}'.format(base_rfc_f1))\n",
    "print(\" - AUC score: \",'{:.3f}'.format(base_rfc_auc))\n",
    "\n",
    "# Display the confusion matrix\n",
    "print(\"Confusion Matrix\")\n",
    "print(confusion_matrix(y_test,base_rfc_pred))"
   ]
  },
  {
   "cell_type": "markdown",
   "metadata": {
    "papermill": {
     "duration": 0.041732,
     "end_time": "2021-03-09T16:51:05.862218",
     "exception": false,
     "start_time": "2021-03-09T16:51:05.820486",
     "status": "completed"
    },
    "tags": []
   },
   "source": [
    "### 3.6. AdaBoost with Imbalanced Data"
   ]
  },
  {
   "cell_type": "code",
   "execution_count": 23,
   "metadata": {
    "execution": {
     "iopub.execute_input": "2021-03-09T16:51:05.954020Z",
     "iopub.status.busy": "2021-03-09T16:51:05.953306Z",
     "iopub.status.idle": "2021-03-09T16:51:06.660970Z",
     "shell.execute_reply": "2021-03-09T16:51:06.660410Z"
    },
    "papermill": {
     "duration": 0.756206,
     "end_time": "2021-03-09T16:51:06.661119",
     "exception": false,
     "start_time": "2021-03-09T16:51:05.904913",
     "status": "completed"
    },
    "tags": []
   },
   "outputs": [
    {
     "name": "stdout",
     "output_type": "stream",
     "text": [
      "AdaBoost Classifier: Imbalanced Data\n",
      " - Accuracy :  0.957\n",
      " - Precision:  0.905\n",
      " - Recall   :  0.816\n",
      " - F1 score :  0.858\n",
      " - AUC score:  0.986\n",
      "Confusion Matrix\n",
      "[[2509   42]\n",
      " [  90  398]]\n"
     ]
    }
   ],
   "source": [
    "# Initiate the model\n",
    "base_adb = AdaBoostClassifier()\n",
    "# Fit the model\n",
    "base_adb_model = base_adb.fit(X_train, y_train.ravel())\n",
    "# Make Predictions\n",
    "base_adb_pred=base_adb_model.predict(X_test)\n",
    "\n",
    "# Calculate Accuracy, Precision, Recall, and F1 score\n",
    "base_adb_accuracy = accuracy_score(y_test, base_adb_pred)\n",
    "base_adb_precision = precision_score(y_test, base_adb_pred)\n",
    "base_adb_recall = recall_score(y_test, base_adb_pred)\n",
    "base_adb_f1 = 2 * (base_adb_precision * base_adb_recall) / (base_adb_precision + base_adb_recall)\n",
    "\n",
    "# Calculate AUC score\n",
    "base_adb_probs = base_adb.predict_proba(X_test)\n",
    "base_adb_probs = base_adb_probs[:,1]\n",
    "base_adb_auc = roc_auc_score(y_test, base_adb_probs)\n",
    "\n",
    "# Display the metrics\n",
    "print(\"AdaBoost Classifier: Imbalanced Data\")\n",
    "print(\" - Accuracy : \",'{:.3f}'.format(base_adb_accuracy))\n",
    "print(\" - Precision: \",'{:.3f}'.format(base_adb_precision))\n",
    "print(\" - Recall   : \",'{:.3f}'.format(base_adb_recall))\n",
    "print(\" - F1 score : \",'{:.3f}'.format(base_adb_f1))\n",
    "print(\" - AUC score: \",'{:.3f}'.format(base_adb_auc))\n",
    "\n",
    "# Display the confusion matrix\n",
    "print(\"Confusion Matrix\")\n",
    "print(confusion_matrix(y_test,base_adb_pred))"
   ]
  },
  {
   "cell_type": "markdown",
   "metadata": {
    "papermill": {
     "duration": 0.042275,
     "end_time": "2021-03-09T16:51:06.748636",
     "exception": false,
     "start_time": "2021-03-09T16:51:06.706361",
     "status": "completed"
    },
    "tags": []
   },
   "source": [
    "### 3.7. XGBoost with Imbalance Data"
   ]
  },
  {
   "cell_type": "code",
   "execution_count": 24,
   "metadata": {
    "execution": {
     "iopub.execute_input": "2021-03-09T16:51:06.842327Z",
     "iopub.status.busy": "2021-03-09T16:51:06.840276Z",
     "iopub.status.idle": "2021-03-09T16:51:07.715357Z",
     "shell.execute_reply": "2021-03-09T16:51:07.715888Z"
    },
    "papermill": {
     "duration": 0.925257,
     "end_time": "2021-03-09T16:51:07.716083",
     "exception": false,
     "start_time": "2021-03-09T16:51:06.790826",
     "status": "completed"
    },
    "tags": []
   },
   "outputs": [
    {
     "name": "stdout",
     "output_type": "stream",
     "text": [
      "[16:51:06] WARNING: ../src/learner.cc:1061: Starting in XGBoost 1.3.0, the default evaluation metric used with the objective 'binary:logistic' was changed from 'error' to 'logloss'. Explicitly set eval_metric if you'd like to restore the old behavior.\n",
      "XGBoost Classifier: Imbalanced Data\n",
      " - Accuracy :  0.970\n",
      " - Precision:  0.946\n",
      " - Recall   :  0.861\n",
      " - F1 score :  0.901\n",
      " - AUC score:  0.994\n",
      "Confusion Matrix\n",
      "[[2527   24]\n",
      " [  68  420]]\n"
     ]
    }
   ],
   "source": [
    "# Initiate the model\n",
    "base_xgb = XGBClassifier()\n",
    "# Fit the model\n",
    "base_xgb_model = base_xgb.fit(X_train, y_train.ravel())\n",
    "# Make Predictions\n",
    "base_xgb_pred = base_xgb_model.predict(X_test)\n",
    "\n",
    "# Calculate Accuracy, Precision, Recall, and F1 score\n",
    "base_xgb_accuracy = accuracy_score(y_test, base_xgb_pred)\n",
    "base_xgb_precision = precision_score(y_test, base_xgb_pred)\n",
    "base_xgb_recall = recall_score(y_test, base_xgb_pred)\n",
    "base_xgb_f1 = 2 * (base_xgb_precision * base_xgb_recall) / (base_xgb_precision + base_xgb_recall)\n",
    "\n",
    "# Calculate AUC score\n",
    "base_xgb_probs = base_xgb.predict_proba(X_test)\n",
    "base_xgb_probs = base_xgb_probs[:,1]\n",
    "base_xgb_auc = roc_auc_score(y_test, base_xgb_probs)\n",
    "\n",
    "# Display the metrics\n",
    "print(\"XGBoost Classifier: Imbalanced Data\")\n",
    "print(\" - Accuracy : \",'{:.3f}'.format(base_xgb_accuracy))\n",
    "print(\" - Precision: \",'{:.3f}'.format(base_xgb_precision))\n",
    "print(\" - Recall   : \",'{:.3f}'.format(base_xgb_recall))\n",
    "print(\" - F1 score : \",'{:.3f}'.format(base_xgb_f1))\n",
    "print(\" - AUC score: \",'{:.3f}'.format(base_xgb_auc))\n",
    "\n",
    "# Display the confusion matrix\n",
    "print(\"Confusion Matrix\")\n",
    "print(confusion_matrix(y_test,base_xgb_pred))"
   ]
  },
  {
   "cell_type": "markdown",
   "metadata": {
    "papermill": {
     "duration": 0.042042,
     "end_time": "2021-03-09T16:51:07.802893",
     "exception": false,
     "start_time": "2021-03-09T16:51:07.760851",
     "status": "completed"
    },
    "tags": []
   },
   "source": [
    "## 4. Prediction with SMOTE"
   ]
  },
  {
   "cell_type": "markdown",
   "metadata": {
    "papermill": {
     "duration": 0.041056,
     "end_time": "2021-03-09T16:51:07.885507",
     "exception": false,
     "start_time": "2021-03-09T16:51:07.844451",
     "status": "completed"
    },
    "tags": []
   },
   "source": [
    "## Perform SMOTE"
   ]
  },
  {
   "cell_type": "code",
   "execution_count": 25,
   "metadata": {
    "execution": {
     "iopub.execute_input": "2021-03-09T16:51:07.974868Z",
     "iopub.status.busy": "2021-03-09T16:51:07.974062Z",
     "iopub.status.idle": "2021-03-09T16:51:08.230044Z",
     "shell.execute_reply": "2021-03-09T16:51:08.229263Z"
    },
    "papermill": {
     "duration": 0.303234,
     "end_time": "2021-03-09T16:51:08.230198",
     "exception": false,
     "start_time": "2021-03-09T16:51:07.926964",
     "status": "completed"
    },
    "tags": []
   },
   "outputs": [
    {
     "data": {
      "text/plain": [
       "0    5949\n",
       "1    5949\n",
       "Name: Attrition_Flag, dtype: int64"
      ]
     },
     "execution_count": 25,
     "metadata": {},
     "output_type": "execute_result"
    }
   ],
   "source": [
    "# Since this is an imbalanced data, apply SMOTE to the training set\n",
    "from imblearn.over_sampling import SMOTE\n",
    "smote=SMOTE()\n",
    "smote_X_train, smote_y_train = smote.fit_sample(X_train,y_train)\n",
    "\n",
    "# Check if SMOTE were properly applied\n",
    "smote_y_train.value_counts()"
   ]
  },
  {
   "cell_type": "markdown",
   "metadata": {
    "papermill": {
     "duration": 0.041371,
     "end_time": "2021-03-09T16:51:08.312906",
     "exception": false,
     "start_time": "2021-03-09T16:51:08.271535",
     "status": "completed"
    },
    "tags": []
   },
   "source": [
    "SMOTE successfully made the dataset balanced"
   ]
  },
  {
   "cell_type": "markdown",
   "metadata": {
    "papermill": {
     "duration": 0.041301,
     "end_time": "2021-03-09T16:51:08.395614",
     "exception": false,
     "start_time": "2021-03-09T16:51:08.354313",
     "status": "completed"
    },
    "tags": []
   },
   "source": [
    "## 4.1. Logisgic Regression with SMOTE"
   ]
  },
  {
   "cell_type": "code",
   "execution_count": 26,
   "metadata": {
    "execution": {
     "iopub.execute_input": "2021-03-09T16:51:08.486600Z",
     "iopub.status.busy": "2021-03-09T16:51:08.485952Z",
     "iopub.status.idle": "2021-03-09T16:51:08.585530Z",
     "shell.execute_reply": "2021-03-09T16:51:08.586448Z"
    },
    "papermill": {
     "duration": 0.149757,
     "end_time": "2021-03-09T16:51:08.586845",
     "exception": false,
     "start_time": "2021-03-09T16:51:08.437088",
     "status": "completed"
    },
    "tags": []
   },
   "outputs": [
    {
     "name": "stdout",
     "output_type": "stream",
     "text": [
      "Logistic Regression: SMOTE\n",
      " - Accuracy :  0.853\n",
      " - Precision:  0.528\n",
      " - Recall   :  0.803\n",
      " - F1 score :  0.637\n",
      " - AUC score:  0.920\n",
      "Confusion Matrix\n",
      "[[2200  351]\n",
      " [  96  392]]\n"
     ]
    }
   ],
   "source": [
    "# Initiate the model\n",
    "smote_lm = LogisticRegression()\n",
    "\n",
    "# Fit the model\n",
    "smote_lm_model = smote_lm.fit(smote_X_train, smote_y_train.ravel())\n",
    "\n",
    "# Make Predictions\n",
    "smote_lm_pred=smote_lm_model.predict(X_test)\n",
    "\n",
    "# Calculate Accuracy, Precision, Recall, and F1 score\n",
    "smote_lm_accuracy = accuracy_score(y_test, smote_lm_pred)\n",
    "smote_lm_precision = precision_score(y_test, smote_lm_pred)\n",
    "smote_lm_recall = recall_score(y_test, smote_lm_pred)\n",
    "smote_lm_f1 = 2 * (smote_lm_precision * smote_lm_recall) / (smote_lm_precision + smote_lm_recall)\n",
    "\n",
    "# Calculate AUC score\n",
    "smote_lm_probs = smote_lm.predict_proba(X_test)\n",
    "smote_lm_probs = smote_lm_probs[:,1]\n",
    "smote_lm_auc = roc_auc_score(y_test, smote_lm_probs)\n",
    "\n",
    "# Display the metrics\n",
    "print(\"Logistic Regression: SMOTE\")\n",
    "print(\" - Accuracy : \",'{:.3f}'.format(smote_lm_accuracy))\n",
    "print(\" - Precision: \",'{:.3f}'.format(smote_lm_precision))\n",
    "print(\" - Recall   : \",'{:.3f}'.format(smote_lm_recall))\n",
    "print(\" - F1 score : \",'{:.3f}'.format(smote_lm_f1))\n",
    "print(\" - AUC score: \",'{:.3f}'.format(smote_lm_auc))\n",
    "\n",
    "# Display the confusion matrix\n",
    "print(\"Confusion Matrix\")\n",
    "print(confusion_matrix(y_test,smote_lm_pred))"
   ]
  },
  {
   "cell_type": "markdown",
   "metadata": {
    "papermill": {
     "duration": 0.049045,
     "end_time": "2021-03-09T16:51:08.718521",
     "exception": false,
     "start_time": "2021-03-09T16:51:08.669476",
     "status": "completed"
    },
    "tags": []
   },
   "source": [
    "## 4.2. KNN with SMOTE"
   ]
  },
  {
   "cell_type": "code",
   "execution_count": 27,
   "metadata": {
    "execution": {
     "iopub.execute_input": "2021-03-09T16:51:08.811308Z",
     "iopub.status.busy": "2021-03-09T16:51:08.810456Z",
     "iopub.status.idle": "2021-03-09T16:51:14.522968Z",
     "shell.execute_reply": "2021-03-09T16:51:14.522311Z"
    },
    "papermill": {
     "duration": 5.761956,
     "end_time": "2021-03-09T16:51:14.523116",
     "exception": false,
     "start_time": "2021-03-09T16:51:08.761160",
     "status": "completed"
    },
    "tags": []
   },
   "outputs": [
    {
     "name": "stdout",
     "output_type": "stream",
     "text": [
      "KNN Classifier: SMOTE\n",
      " - Accuracy :  0.765\n",
      " - Precision:  0.376\n",
      " - Recall   :  0.703\n",
      " - F1 score :  0.490\n",
      " - AUC score:  0.808\n",
      "Confusion Matrix\n",
      "[[1982  569]\n",
      " [ 145  343]]\n"
     ]
    }
   ],
   "source": [
    "# Initiate the model\n",
    "smote_knn = KNeighborsClassifier()\n",
    "\n",
    "# Fit the model\n",
    "smote_knn_model = smote_knn.fit(smote_X_train, smote_y_train.ravel())\n",
    "\n",
    "# Make Predictions\n",
    "smote_knn_pred=smote_knn_model.predict(X_test)\n",
    "\n",
    "# Calculate Accuracy, Precision, Recall, and F1 score\n",
    "smote_knn_accuracy = accuracy_score(y_test, smote_knn_pred)\n",
    "smote_knn_precision = precision_score(y_test, smote_knn_pred)\n",
    "smote_knn_recall = recall_score(y_test, smote_knn_pred)\n",
    "smote_knn_f1 = 2 * (smote_knn_precision * smote_knn_recall) / (smote_knn_precision + smote_knn_recall)\n",
    "\n",
    "# Calculate AUC score\n",
    "smote_knn_probs = smote_knn.predict_proba(X_test)\n",
    "smote_knn_probs = smote_knn_probs[:,1]\n",
    "smote_knn_auc = roc_auc_score(y_test, smote_knn_probs)\n",
    "\n",
    "# Display the metrics\n",
    "print(\"KNN Classifier: SMOTE\")\n",
    "print(\" - Accuracy : \",'{:.3f}'.format(smote_knn_accuracy))\n",
    "print(\" - Precision: \",'{:.3f}'.format(smote_knn_precision))\n",
    "print(\" - Recall   : \",'{:.3f}'.format(smote_knn_recall))\n",
    "print(\" - F1 score : \",'{:.3f}'.format(smote_knn_f1))\n",
    "print(\" - AUC score: \",'{:.3f}'.format(smote_knn_auc))\n",
    "\n",
    "# Display the confusion matrix\n",
    "print(\"Confusion Matrix\")\n",
    "print(confusion_matrix(y_test,smote_knn_pred))"
   ]
  },
  {
   "cell_type": "markdown",
   "metadata": {
    "papermill": {
     "duration": 0.042247,
     "end_time": "2021-03-09T16:51:14.608039",
     "exception": false,
     "start_time": "2021-03-09T16:51:14.565792",
     "status": "completed"
    },
    "tags": []
   },
   "source": [
    "## 4.3. SVM with SMOTE"
   ]
  },
  {
   "cell_type": "code",
   "execution_count": 28,
   "metadata": {
    "execution": {
     "iopub.execute_input": "2021-03-09T16:51:14.700748Z",
     "iopub.status.busy": "2021-03-09T16:51:14.700001Z",
     "iopub.status.idle": "2021-03-09T16:51:43.299794Z",
     "shell.execute_reply": "2021-03-09T16:51:43.300305Z"
    },
    "papermill": {
     "duration": 28.650081,
     "end_time": "2021-03-09T16:51:43.300485",
     "exception": false,
     "start_time": "2021-03-09T16:51:14.650404",
     "status": "completed"
    },
    "tags": []
   },
   "outputs": [
    {
     "name": "stdout",
     "output_type": "stream",
     "text": [
      "SVM Classifier: SMOTE\n",
      " - Accuracy :  0.904\n",
      " - Precision:  0.669\n",
      " - Recall   :  0.799\n",
      " - F1 score :  0.728\n",
      " - AUC score:  0.944\n",
      "Confusion Matrix\n",
      "[[2358  193]\n",
      " [  98  390]]\n"
     ]
    }
   ],
   "source": [
    "# Initiate the model\n",
    "smote_svc = SVC(kernel='rbf',probability=True)\n",
    "\n",
    "# Fit the model\n",
    "smote_svc_model = smote_svc.fit(smote_X_train, smote_y_train.ravel())\n",
    "\n",
    "# Make Predictions\n",
    "smote_svc_pred=smote_svc_model.predict(X_test)\n",
    "\n",
    "# Calculate Accuracy, Precision, Recall, and F1 score\n",
    "smote_svc_accuracy = accuracy_score(y_test, smote_svc_pred)\n",
    "smote_svc_precision = precision_score(y_test, smote_svc_pred)\n",
    "smote_svc_recall = recall_score(y_test, smote_svc_pred)\n",
    "smote_svc_f1 = 2 * (smote_svc_precision * smote_svc_recall) / (smote_svc_precision + smote_svc_recall)\n",
    "\n",
    "# Calculate AUC score\n",
    "smote_svc_probs = smote_svc.predict_proba(X_test)\n",
    "smote_svc_probs = smote_svc_probs[:,1]\n",
    "smote_svc_auc = roc_auc_score(y_test, smote_svc_probs)\n",
    "\n",
    "# Display the metrics\n",
    "print(\"SVM Classifier: SMOTE\")\n",
    "print(\" - Accuracy : \",'{:.3f}'.format(smote_svc_accuracy))\n",
    "print(\" - Precision: \",'{:.3f}'.format(smote_svc_precision))\n",
    "print(\" - Recall   : \",'{:.3f}'.format(smote_svc_recall))\n",
    "print(\" - F1 score : \",'{:.3f}'.format(smote_svc_f1))\n",
    "print(\" - AUC score: \",'{:.3f}'.format(smote_svc_auc))\n",
    "\n",
    "# Display the confusion matrix\n",
    "print(\"Confusion Matrix\")\n",
    "print(confusion_matrix(y_test,smote_svc_pred))"
   ]
  },
  {
   "cell_type": "markdown",
   "metadata": {
    "papermill": {
     "duration": 0.042281,
     "end_time": "2021-03-09T16:51:43.385761",
     "exception": false,
     "start_time": "2021-03-09T16:51:43.343480",
     "status": "completed"
    },
    "tags": []
   },
   "source": [
    "## 4.4. Decision Tree Classifier with SMOTE"
   ]
  },
  {
   "cell_type": "code",
   "execution_count": 29,
   "metadata": {
    "execution": {
     "iopub.execute_input": "2021-03-09T16:51:43.480538Z",
     "iopub.status.busy": "2021-03-09T16:51:43.479925Z",
     "iopub.status.idle": "2021-03-09T16:51:43.698257Z",
     "shell.execute_reply": "2021-03-09T16:51:43.697684Z"
    },
    "papermill": {
     "duration": 0.268571,
     "end_time": "2021-03-09T16:51:43.698401",
     "exception": false,
     "start_time": "2021-03-09T16:51:43.429830",
     "status": "completed"
    },
    "tags": []
   },
   "outputs": [
    {
     "name": "stdout",
     "output_type": "stream",
     "text": [
      "Decision Tree Classifier: SMOTE\n",
      " - Accuracy :  0.918\n",
      " - Precision:  0.721\n",
      " - Recall   :  0.803\n",
      " - F1 score :  0.760\n",
      " - AUC score:  0.872\n",
      "Confusion Matrix\n",
      "[[2399  152]\n",
      " [  96  392]]\n"
     ]
    }
   ],
   "source": [
    "# Initiate the model\n",
    "smote_tree = DecisionTreeClassifier()\n",
    "\n",
    "# Fit the model\n",
    "smote_tree_model = smote_tree.fit(smote_X_train, smote_y_train.ravel())\n",
    "\n",
    "# Make Predictions\n",
    "smote_tree_pred=smote_tree_model.predict(X_test)\n",
    "\n",
    "# Calculate Accuracy, Precision, Recall, and F1 score\n",
    "smote_tree_accuracy = accuracy_score(y_test, smote_tree_pred)\n",
    "smote_tree_precision = precision_score(y_test, smote_tree_pred)\n",
    "smote_tree_recall = recall_score(y_test, smote_tree_pred)\n",
    "smote_tree_f1 = 2 * (smote_tree_precision * smote_tree_recall) / (smote_tree_precision + smote_tree_recall)\n",
    "\n",
    "# Calculate AUC score\n",
    "smote_tree_probs = smote_tree.predict_proba(X_test)\n",
    "smote_tree_probs = smote_tree_probs[:,1]\n",
    "smote_tree_auc = roc_auc_score(y_test, smote_tree_probs)\n",
    "\n",
    "# Display the metrics\n",
    "print(\"Decision Tree Classifier: SMOTE\")\n",
    "print(\" - Accuracy : \",'{:.3f}'.format(smote_tree_accuracy))\n",
    "print(\" - Precision: \",'{:.3f}'.format(smote_tree_precision))\n",
    "print(\" - Recall   : \",'{:.3f}'.format(smote_tree_recall))\n",
    "print(\" - F1 score : \",'{:.3f}'.format(smote_tree_f1))\n",
    "print(\" - AUC score: \",'{:.3f}'.format(smote_tree_auc))\n",
    "\n",
    "# Display the confusion matrix\n",
    "print(\"Confusion Matrix\")\n",
    "print(confusion_matrix(y_test,smote_tree_pred))"
   ]
  },
  {
   "cell_type": "markdown",
   "metadata": {
    "papermill": {
     "duration": 0.044044,
     "end_time": "2021-03-09T16:51:43.785496",
     "exception": false,
     "start_time": "2021-03-09T16:51:43.741452",
     "status": "completed"
    },
    "tags": []
   },
   "source": [
    "## 4.5. Random Forest Classifier with SMOTE"
   ]
  },
  {
   "cell_type": "code",
   "execution_count": 30,
   "metadata": {
    "execution": {
     "iopub.execute_input": "2021-03-09T16:51:43.881131Z",
     "iopub.status.busy": "2021-03-09T16:51:43.880445Z",
     "iopub.status.idle": "2021-03-09T16:51:46.294808Z",
     "shell.execute_reply": "2021-03-09T16:51:46.293696Z"
    },
    "papermill": {
     "duration": 2.466003,
     "end_time": "2021-03-09T16:51:46.295042",
     "exception": false,
     "start_time": "2021-03-09T16:51:43.829039",
     "status": "completed"
    },
    "tags": []
   },
   "outputs": [
    {
     "name": "stdout",
     "output_type": "stream",
     "text": [
      "Random Forest Classifier: SMOTE\n",
      " - Accuracy :  0.957\n",
      " - Precision:  0.884\n",
      " - Recall   :  0.840\n",
      " - F1 score :  0.861\n",
      " - AUC score:  0.984\n",
      "Confusion Matrix\n",
      "[[2497   54]\n",
      " [  78  410]]\n"
     ]
    }
   ],
   "source": [
    "# Initiate the model\n",
    "smote_rfc = RandomForestClassifier()\n",
    "\n",
    "# Fit the model\n",
    "smote_rfc_model = smote_rfc.fit(smote_X_train, smote_y_train.ravel())\n",
    "\n",
    "# Make Predictions\n",
    "smote_rfc_pred = smote_rfc_model.predict(X_test)\n",
    "\n",
    "# Calculate Accuracy, Precision, Recall, and F1 score\n",
    "smote_rfc_accuracy = accuracy_score(y_test, smote_rfc_pred)\n",
    "smote_rfc_precision = precision_score(y_test, smote_rfc_pred)\n",
    "smote_rfc_recall = recall_score(y_test, smote_rfc_pred)\n",
    "smote_rfc_f1 = 2 * (smote_rfc_precision * smote_rfc_recall) / (smote_rfc_precision + smote_rfc_recall)\n",
    "\n",
    "# Calculate AUC score\n",
    "smote_rfc_probs = smote_rfc.predict_proba(X_test)\n",
    "smote_rfc_probs = smote_rfc_probs[:,1]\n",
    "smote_rfc_auc = roc_auc_score(y_test, smote_rfc_probs)\n",
    "\n",
    "# Display the metrics\n",
    "print(\"Random Forest Classifier: SMOTE\")\n",
    "print(\" - Accuracy : \",'{:.3f}'.format(smote_rfc_accuracy))\n",
    "print(\" - Precision: \",'{:.3f}'.format(smote_rfc_precision))\n",
    "print(\" - Recall   : \",'{:.3f}'.format(smote_rfc_recall))\n",
    "print(\" - F1 score : \",'{:.3f}'.format(smote_rfc_f1))\n",
    "print(\" - AUC score: \",'{:.3f}'.format(smote_rfc_auc))\n",
    "\n",
    "# Display the confusion matrix\n",
    "print(\"Confusion Matrix\")\n",
    "print(confusion_matrix(y_test,smote_rfc_pred))"
   ]
  },
  {
   "cell_type": "markdown",
   "metadata": {
    "papermill": {
     "duration": 0.043298,
     "end_time": "2021-03-09T16:51:46.383798",
     "exception": false,
     "start_time": "2021-03-09T16:51:46.340500",
     "status": "completed"
    },
    "tags": []
   },
   "source": [
    "## 4.6. AdaBoost Classifier with SMOTE"
   ]
  },
  {
   "cell_type": "code",
   "execution_count": 31,
   "metadata": {
    "execution": {
     "iopub.execute_input": "2021-03-09T16:51:46.479760Z",
     "iopub.status.busy": "2021-03-09T16:51:46.479057Z",
     "iopub.status.idle": "2021-03-09T16:51:47.850862Z",
     "shell.execute_reply": "2021-03-09T16:51:47.851306Z"
    },
    "papermill": {
     "duration": 1.423413,
     "end_time": "2021-03-09T16:51:47.851485",
     "exception": false,
     "start_time": "2021-03-09T16:51:46.428072",
     "status": "completed"
    },
    "tags": []
   },
   "outputs": [
    {
     "name": "stdout",
     "output_type": "stream",
     "text": [
      "AdaBoost Classifier: SMOTE\n",
      " - Accuracy :  0.938\n",
      " - Precision:  0.774\n",
      " - Recall   :  0.871\n",
      " - F1 score :  0.820\n",
      " - AUC score:  0.976\n",
      "Confusion Matrix\n",
      "[[2427  124]\n",
      " [  63  425]]\n"
     ]
    }
   ],
   "source": [
    "# Initiate the model\n",
    "smote_adb = AdaBoostClassifier()\n",
    "\n",
    "# Fit the model\n",
    "smote_adb_model = smote_adb.fit(smote_X_train, smote_y_train.ravel())\n",
    "\n",
    "# Make Predictions\n",
    "smote_adb_pred = smote_adb_model.predict(X_test)\n",
    "\n",
    "# Calculate Accuracy, Precision, Recall, and F1 score\n",
    "smote_adb_accuracy = accuracy_score(y_test, smote_adb_pred)\n",
    "smote_adb_precision = precision_score(y_test, smote_adb_pred)\n",
    "smote_adb_recall = recall_score(y_test, smote_adb_pred)\n",
    "smote_adb_f1 = 2 * (smote_adb_precision * smote_adb_recall) / (smote_adb_precision + smote_adb_recall)\n",
    "\n",
    "# Calculate AUC score\n",
    "smote_adb_probs = smote_adb.predict_proba(X_test)\n",
    "smote_adb_probs = smote_adb_probs[:,1]\n",
    "smote_adb_auc = roc_auc_score(y_test, smote_adb_probs)\n",
    "\n",
    "# Display the metrics\n",
    "print(\"AdaBoost Classifier: SMOTE\")\n",
    "print(\" - Accuracy : \",'{:.3f}'.format(smote_adb_accuracy))\n",
    "print(\" - Precision: \",'{:.3f}'.format(smote_adb_precision))\n",
    "print(\" - Recall   : \",'{:.3f}'.format(smote_adb_recall))\n",
    "print(\" - F1 score : \",'{:.3f}'.format(smote_adb_f1))\n",
    "print(\" - AUC score: \",'{:.3f}'.format(smote_adb_auc))\n",
    "\n",
    "# Display the confusion matrix\n",
    "print(\"Confusion Matrix\")\n",
    "print(confusion_matrix(y_test,smote_adb_pred))"
   ]
  },
  {
   "cell_type": "markdown",
   "metadata": {
    "papermill": {
     "duration": 0.04379,
     "end_time": "2021-03-09T16:51:47.939293",
     "exception": false,
     "start_time": "2021-03-09T16:51:47.895503",
     "status": "completed"
    },
    "tags": []
   },
   "source": [
    "## 4.7. XGBoost Classifier with SMOTE"
   ]
  },
  {
   "cell_type": "code",
   "execution_count": 32,
   "metadata": {
    "execution": {
     "iopub.execute_input": "2021-03-09T16:51:48.036194Z",
     "iopub.status.busy": "2021-03-09T16:51:48.035504Z",
     "iopub.status.idle": "2021-03-09T16:51:49.755939Z",
     "shell.execute_reply": "2021-03-09T16:51:49.754082Z"
    },
    "papermill": {
     "duration": 1.772801,
     "end_time": "2021-03-09T16:51:49.756263",
     "exception": false,
     "start_time": "2021-03-09T16:51:47.983462",
     "status": "completed"
    },
    "tags": []
   },
   "outputs": [
    {
     "name": "stdout",
     "output_type": "stream",
     "text": [
      "[16:51:48] WARNING: ../src/learner.cc:1061: Starting in XGBoost 1.3.0, the default evaluation metric used with the objective 'binary:logistic' was changed from 'error' to 'logloss'. Explicitly set eval_metric if you'd like to restore the old behavior.\n",
      "XGBClassifier: SMOTE\n",
      " - Accuracy :  0.970\n",
      " - Precision:  0.921\n",
      " - Recall   :  0.889\n",
      " - F1 score :  0.905\n",
      " - AUC score:  0.992\n",
      "Confusion Matrix\n",
      "[[2514   37]\n",
      " [  54  434]]\n"
     ]
    }
   ],
   "source": [
    "# Initiate the model\n",
    "smote_xgb = XGBClassifier()\n",
    "\n",
    "# Fit the model\n",
    "smote_xgb_model = smote_xgb.fit(smote_X_train, smote_y_train.ravel())\n",
    "\n",
    "# Make Predictions\n",
    "smote_xgb_pred = smote_xgb_model.predict(X_test)\n",
    "\n",
    "# Calculate Accuracy, Precision, Recall, and F1 score\n",
    "smote_xgb_accuracy = accuracy_score(y_test, smote_xgb_pred)\n",
    "smote_xgb_precision = precision_score(y_test, smote_xgb_pred)\n",
    "smote_xgb_recall = recall_score(y_test, smote_xgb_pred)\n",
    "smote_xgb_f1 = 2 * (smote_xgb_precision * smote_xgb_recall) / (smote_xgb_precision + smote_xgb_recall)\n",
    "\n",
    "# Calculate AUC score\n",
    "smote_xgb_probs = smote_xgb.predict_proba(X_test)\n",
    "smote_xgb_probs = smote_xgb_probs[:,1]\n",
    "smote_xgb_auc = roc_auc_score(y_test, smote_xgb_probs)\n",
    "\n",
    "# Display the metrics\n",
    "print(\"XGBClassifier: SMOTE\")\n",
    "print(\" - Accuracy : \",'{:.3f}'.format(smote_xgb_accuracy))\n",
    "print(\" - Precision: \",'{:.3f}'.format(smote_xgb_precision))\n",
    "print(\" - Recall   : \",'{:.3f}'.format(smote_xgb_recall))\n",
    "print(\" - F1 score : \",'{:.3f}'.format(smote_xgb_f1))\n",
    "print(\" - AUC score: \",'{:.3f}'.format(smote_xgb_auc))\n",
    "\n",
    "# Display the confusion matrix\n",
    "print(\"Confusion Matrix\")\n",
    "print(confusion_matrix(y_test,smote_xgb_pred))"
   ]
  },
  {
   "cell_type": "markdown",
   "metadata": {
    "papermill": {
     "duration": 0.044238,
     "end_time": "2021-03-09T16:51:49.847331",
     "exception": false,
     "start_time": "2021-03-09T16:51:49.803093",
     "status": "completed"
    },
    "tags": []
   },
   "source": [
    "# 5. Prediction with SMOTE-ENN"
   ]
  },
  {
   "cell_type": "markdown",
   "metadata": {
    "papermill": {
     "duration": 0.049993,
     "end_time": "2021-03-09T16:51:49.941804",
     "exception": false,
     "start_time": "2021-03-09T16:51:49.891811",
     "status": "completed"
    },
    "tags": []
   },
   "source": [
    "## Perform SMOTE-ENN"
   ]
  },
  {
   "cell_type": "code",
   "execution_count": 33,
   "metadata": {
    "execution": {
     "iopub.execute_input": "2021-03-09T16:51:50.038406Z",
     "iopub.status.busy": "2021-03-09T16:51:50.037487Z",
     "iopub.status.idle": "2021-03-09T16:51:55.546172Z",
     "shell.execute_reply": "2021-03-09T16:51:55.545563Z"
    },
    "papermill": {
     "duration": 5.559815,
     "end_time": "2021-03-09T16:51:55.546311",
     "exception": false,
     "start_time": "2021-03-09T16:51:49.986496",
     "status": "completed"
    },
    "tags": []
   },
   "outputs": [
    {
     "data": {
      "text/plain": [
       "1    5949\n",
       "0    4050\n",
       "Name: Attrition_Flag, dtype: int64"
      ]
     },
     "execution_count": 33,
     "metadata": {},
     "output_type": "execute_result"
    }
   ],
   "source": [
    "# Combined SMOTE and Edited Nearest Neighbors sampling for imbalanced classification\n",
    "from imblearn.combine import SMOTEENN\n",
    "from imblearn.under_sampling import EditedNearestNeighbours\n",
    "\n",
    "# define sampling\n",
    "smoteenn_X_train, smoteenn_y_train=SMOTEENN(\n",
    "    enn=EditedNearestNeighbours(sampling_strategy='majority')).fit_sample(X_train,y_train)\n",
    "\n",
    "# Check if SMOTE-ENN were properly applied\n",
    "smoteenn_y_train.value_counts()"
   ]
  },
  {
   "cell_type": "markdown",
   "metadata": {
    "papermill": {
     "duration": 0.044586,
     "end_time": "2021-03-09T16:51:55.635539",
     "exception": false,
     "start_time": "2021-03-09T16:51:55.590953",
     "status": "completed"
    },
    "tags": []
   },
   "source": [
    "## 5.1. Logistic Regression with SMOTE-ENN"
   ]
  },
  {
   "cell_type": "code",
   "execution_count": 34,
   "metadata": {
    "execution": {
     "iopub.execute_input": "2021-03-09T16:51:55.733058Z",
     "iopub.status.busy": "2021-03-09T16:51:55.732453Z",
     "iopub.status.idle": "2021-03-09T16:51:55.822196Z",
     "shell.execute_reply": "2021-03-09T16:51:55.823051Z"
    },
    "papermill": {
     "duration": 0.142999,
     "end_time": "2021-03-09T16:51:55.823321",
     "exception": false,
     "start_time": "2021-03-09T16:51:55.680322",
     "status": "completed"
    },
    "tags": []
   },
   "outputs": [
    {
     "name": "stdout",
     "output_type": "stream",
     "text": [
      "Logistic Regression: SMOTE-ENN\n",
      " - Accuracy :  0.806\n",
      " - Precision:  0.445\n",
      " - Recall   :  0.855\n",
      " - F1 score :  0.585\n",
      " - AUC score:  0.917\n",
      "Confusion Matrix\n",
      "[[2031  520]\n",
      " [  71  417]]\n"
     ]
    }
   ],
   "source": [
    "# Initiate the model\n",
    "smoteenn_lm = LogisticRegression()\n",
    "\n",
    "# Fit the model\n",
    "smoteenn_lm_model = smoteenn_lm.fit(smoteenn_X_train, smoteenn_y_train.ravel())\n",
    "\n",
    "# Make Predictions\n",
    "smoteenn_lm_pred=smoteenn_lm_model.predict(X_test)\n",
    "\n",
    "# Calculate Accuracy, Precision, Recall, and F1 score\n",
    "smoteenn_lm_accuracy = accuracy_score(y_test, smoteenn_lm_pred)\n",
    "smoteenn_lm_precision = precision_score(y_test, smoteenn_lm_pred)\n",
    "smoteenn_lm_recall = recall_score(y_test, smoteenn_lm_pred)\n",
    "smoteenn_lm_f1 = 2 * (smoteenn_lm_precision * smoteenn_lm_recall) / (smoteenn_lm_precision + smoteenn_lm_recall)\n",
    "\n",
    "# Calculate AUC score\n",
    "smoteenn_lm_probs = smoteenn_lm.predict_proba(X_test)\n",
    "smoteenn_lm_probs = smoteenn_lm_probs[:,1]\n",
    "smoteenn_lm_auc = roc_auc_score(y_test, smoteenn_lm_probs)\n",
    "\n",
    "# Display the metrics\n",
    "print(\"Logistic Regression: SMOTE-ENN\")\n",
    "print(\" - Accuracy : \",'{:.3f}'.format(smoteenn_lm_accuracy))\n",
    "print(\" - Precision: \",'{:.3f}'.format(smoteenn_lm_precision))\n",
    "print(\" - Recall   : \",'{:.3f}'.format(smoteenn_lm_recall))\n",
    "print(\" - F1 score : \",'{:.3f}'.format(smoteenn_lm_f1))\n",
    "print(\" - AUC score: \",'{:.3f}'.format(smoteenn_lm_auc))\n",
    "\n",
    "# Display the confusion matrix\n",
    "print(\"Confusion Matrix\")\n",
    "print(confusion_matrix(y_test,smoteenn_lm_pred))"
   ]
  },
  {
   "cell_type": "markdown",
   "metadata": {
    "papermill": {
     "duration": 0.051614,
     "end_time": "2021-03-09T16:51:55.963933",
     "exception": false,
     "start_time": "2021-03-09T16:51:55.912319",
     "status": "completed"
    },
    "tags": []
   },
   "source": [
    "## 5.2. KNN with SMOTE-ENN"
   ]
  },
  {
   "cell_type": "code",
   "execution_count": 35,
   "metadata": {
    "execution": {
     "iopub.execute_input": "2021-03-09T16:51:56.065148Z",
     "iopub.status.busy": "2021-03-09T16:51:56.064107Z",
     "iopub.status.idle": "2021-03-09T16:52:00.944600Z",
     "shell.execute_reply": "2021-03-09T16:52:00.943935Z"
    },
    "papermill": {
     "duration": 4.934833,
     "end_time": "2021-03-09T16:52:00.944753",
     "exception": false,
     "start_time": "2021-03-09T16:51:56.009920",
     "status": "completed"
    },
    "tags": []
   },
   "outputs": [
    {
     "name": "stdout",
     "output_type": "stream",
     "text": [
      "KNN Classifier: SMOTE-ENN\n",
      " - Accuracy :  0.684\n",
      " - Precision:  0.313\n",
      " - Recall   :  0.807\n",
      " - F1 score :  0.451\n",
      " - AUC score:  0.790\n",
      "Confusion Matrix\n",
      "[[1685  866]\n",
      " [  94  394]]\n"
     ]
    }
   ],
   "source": [
    "# Initiate the model\n",
    "smoteenn_knn = KNeighborsClassifier()\n",
    "\n",
    "# Fit the model\n",
    "smoteenn_knn_model = smoteenn_knn.fit(smoteenn_X_train, smoteenn_y_train.ravel())\n",
    "\n",
    "# Make Predictions\n",
    "smoteenn_knn_pred=smoteenn_knn_model.predict(X_test)\n",
    "\n",
    "# Calculate Accuracy, Precision, Recall, and F1 score\n",
    "smoteenn_knn_accuracy = accuracy_score(y_test, smoteenn_knn_pred)\n",
    "smoteenn_knn_precision = precision_score(y_test, smoteenn_knn_pred)\n",
    "smoteenn_knn_recall = recall_score(y_test, smoteenn_knn_pred)\n",
    "smoteenn_knn_f1 = 2 * (smoteenn_knn_precision * smoteenn_knn_recall) / (smoteenn_knn_precision + smoteenn_knn_recall)\n",
    "\n",
    "# Calculate AUC score\n",
    "smoteenn_knn_probs = smoteenn_knn.predict_proba(X_test)\n",
    "smoteenn_knn_probs = smoteenn_knn_probs[:,1]\n",
    "smoteenn_knn_auc = roc_auc_score(y_test, smoteenn_knn_probs)\n",
    "\n",
    "# Display the metrics\n",
    "print(\"KNN Classifier: SMOTE-ENN\")\n",
    "print(\" - Accuracy : \",'{:.3f}'.format(smoteenn_knn_accuracy))\n",
    "print(\" - Precision: \",'{:.3f}'.format(smoteenn_knn_precision))\n",
    "print(\" - Recall   : \",'{:.3f}'.format(smoteenn_knn_recall))\n",
    "print(\" - F1 score : \",'{:.3f}'.format(smoteenn_knn_f1))\n",
    "print(\" - AUC score: \",'{:.3f}'.format(smoteenn_knn_auc))\n",
    "\n",
    "# Display the confusion matrix\n",
    "print(\"Confusion Matrix\")\n",
    "print(confusion_matrix(y_test,smoteenn_knn_pred))"
   ]
  },
  {
   "cell_type": "markdown",
   "metadata": {
    "papermill": {
     "duration": 0.045964,
     "end_time": "2021-03-09T16:52:01.036578",
     "exception": false,
     "start_time": "2021-03-09T16:52:00.990614",
     "status": "completed"
    },
    "tags": []
   },
   "source": [
    "## 5.3. SVM Classifier with SMOTE-ENN"
   ]
  },
  {
   "cell_type": "code",
   "execution_count": 36,
   "metadata": {
    "execution": {
     "iopub.execute_input": "2021-03-09T16:52:01.137615Z",
     "iopub.status.busy": "2021-03-09T16:52:01.136561Z",
     "iopub.status.idle": "2021-03-09T16:52:15.520056Z",
     "shell.execute_reply": "2021-03-09T16:52:15.520496Z"
    },
    "papermill": {
     "duration": 14.438393,
     "end_time": "2021-03-09T16:52:15.520669",
     "exception": false,
     "start_time": "2021-03-09T16:52:01.082276",
     "status": "completed"
    },
    "tags": []
   },
   "outputs": [
    {
     "name": "stdout",
     "output_type": "stream",
     "text": [
      "SVM Classifier: SMOTE-ENN\n",
      " - Accuracy :  0.862\n",
      " - Precision:  0.545\n",
      " - Recall   :  0.863\n",
      " - F1 score :  0.668\n",
      " - AUC score:  0.936\n",
      "Confusion Matrix\n",
      "[[2199  352]\n",
      " [  67  421]]\n"
     ]
    }
   ],
   "source": [
    "# Initiate the model\n",
    "smoteenn_svc = SVC(kernel='rbf',probability=True)\n",
    "\n",
    "# Fit the model\n",
    "smoteenn_svc_model = smoteenn_svc.fit(smoteenn_X_train, smoteenn_y_train.ravel())\n",
    "\n",
    "# Make Predictions\n",
    "smoteenn_svc_pred=smoteenn_svc_model.predict(X_test)\n",
    "\n",
    "# Calculate Accuracy, Precision, Recall, and F1 score\n",
    "smoteenn_svc_accuracy = accuracy_score(y_test, smoteenn_svc_pred)\n",
    "smoteenn_svc_precision = precision_score(y_test, smoteenn_svc_pred)\n",
    "smoteenn_svc_recall = recall_score(y_test, smoteenn_svc_pred)\n",
    "smoteenn_svc_f1 = 2 * (smoteenn_svc_precision * smoteenn_svc_recall) / (smoteenn_svc_precision + smoteenn_svc_recall)\n",
    "\n",
    "# Calculate AUC score\n",
    "smoteenn_svc_probs = smoteenn_svc.predict_proba(X_test)\n",
    "smoteenn_svc_probs = smoteenn_svc_probs[:,1]\n",
    "smoteenn_svc_auc = roc_auc_score(y_test, smoteenn_svc_probs)\n",
    "\n",
    "# Display the metrics\n",
    "print(\"SVM Classifier: SMOTE-ENN\")\n",
    "print(\" - Accuracy : \",'{:.3f}'.format(smoteenn_svc_accuracy))\n",
    "print(\" - Precision: \",'{:.3f}'.format(smoteenn_svc_precision))\n",
    "print(\" - Recall   : \",'{:.3f}'.format(smoteenn_svc_recall))\n",
    "print(\" - F1 score : \",'{:.3f}'.format(smoteenn_svc_f1))\n",
    "print(\" - AUC score: \",'{:.3f}'.format(smoteenn_svc_auc))\n",
    "\n",
    "# Display the confusion matrix\n",
    "print(\"Confusion Matrix\")\n",
    "print(confusion_matrix(y_test,smoteenn_svc_pred))"
   ]
  },
  {
   "cell_type": "markdown",
   "metadata": {
    "papermill": {
     "duration": 0.04624,
     "end_time": "2021-03-09T16:52:15.612652",
     "exception": false,
     "start_time": "2021-03-09T16:52:15.566412",
     "status": "completed"
    },
    "tags": []
   },
   "source": [
    "## 5.4. Decision Tree Classifier with SMOTE-ENN"
   ]
  },
  {
   "cell_type": "code",
   "execution_count": 37,
   "metadata": {
    "execution": {
     "iopub.execute_input": "2021-03-09T16:52:15.707994Z",
     "iopub.status.busy": "2021-03-09T16:52:15.707030Z",
     "iopub.status.idle": "2021-03-09T16:52:15.896227Z",
     "shell.execute_reply": "2021-03-09T16:52:15.895495Z"
    },
    "papermill": {
     "duration": 0.237791,
     "end_time": "2021-03-09T16:52:15.896384",
     "exception": false,
     "start_time": "2021-03-09T16:52:15.658593",
     "status": "completed"
    },
    "tags": []
   },
   "outputs": [
    {
     "name": "stdout",
     "output_type": "stream",
     "text": [
      "Decision Tree Classifier: SMOTE-ENN\n",
      " - Accuracy :  0.895\n",
      " - Precision:  0.632\n",
      " - Recall   :  0.828\n",
      " - F1 score :  0.717\n",
      " - AUC score:  0.868\n",
      "Confusion Matrix\n",
      "[[2316  235]\n",
      " [  84  404]]\n"
     ]
    }
   ],
   "source": [
    "# Initiate the model\n",
    "smoteenn_tree = DecisionTreeClassifier()\n",
    "\n",
    "# Fit the model\n",
    "smoteenn_tree_model = smoteenn_tree.fit(smoteenn_X_train, smoteenn_y_train.ravel())\n",
    "\n",
    "# Make Predictions\n",
    "smoteenn_tree_pred=smoteenn_tree_model.predict(X_test)\n",
    "\n",
    "# Calculate Accuracy, Precision, Recall, and F1 score\n",
    "smoteenn_tree_accuracy = accuracy_score(y_test, smoteenn_tree_pred)\n",
    "smoteenn_tree_precision = precision_score(y_test, smoteenn_tree_pred)\n",
    "smoteenn_tree_recall = recall_score(y_test, smoteenn_tree_pred)\n",
    "smoteenn_tree_f1 = 2 * (smoteenn_tree_precision * smoteenn_tree_recall) / (smoteenn_tree_precision + smoteenn_tree_recall)\n",
    "\n",
    "# Calculate AUC score\n",
    "smoteenn_tree_probs = smoteenn_tree.predict_proba(X_test)\n",
    "smoteenn_tree_probs = smoteenn_tree_probs[:,1]\n",
    "smoteenn_tree_auc = roc_auc_score(y_test, smoteenn_tree_probs)\n",
    "\n",
    "# Display the metrics\n",
    "print(\"Decision Tree Classifier: SMOTE-ENN\")\n",
    "print(\" - Accuracy : \",'{:.3f}'.format(smoteenn_tree_accuracy))\n",
    "print(\" - Precision: \",'{:.3f}'.format(smoteenn_tree_precision))\n",
    "print(\" - Recall   : \",'{:.3f}'.format(smoteenn_tree_recall))\n",
    "print(\" - F1 score : \",'{:.3f}'.format(smoteenn_tree_f1))\n",
    "print(\" - AUC score: \",'{:.3f}'.format(smoteenn_tree_auc))\n",
    "\n",
    "# Display the confusion matrix\n",
    "print(\"Confusion Matrix\")\n",
    "print(confusion_matrix(y_test,smoteenn_tree_pred))"
   ]
  },
  {
   "cell_type": "markdown",
   "metadata": {
    "papermill": {
     "duration": 0.048546,
     "end_time": "2021-03-09T16:52:15.991492",
     "exception": false,
     "start_time": "2021-03-09T16:52:15.942946",
     "status": "completed"
    },
    "tags": []
   },
   "source": [
    "## 5.5. Random Forest Classifier with SMOTE-ENN"
   ]
  },
  {
   "cell_type": "code",
   "execution_count": 38,
   "metadata": {
    "execution": {
     "iopub.execute_input": "2021-03-09T16:52:16.094583Z",
     "iopub.status.busy": "2021-03-09T16:52:16.093927Z",
     "iopub.status.idle": "2021-03-09T16:52:18.133874Z",
     "shell.execute_reply": "2021-03-09T16:52:18.134376Z"
    },
    "papermill": {
     "duration": 2.094926,
     "end_time": "2021-03-09T16:52:18.134574",
     "exception": false,
     "start_time": "2021-03-09T16:52:16.039648",
     "status": "completed"
    },
    "tags": []
   },
   "outputs": [
    {
     "name": "stdout",
     "output_type": "stream",
     "text": [
      "Random Forest Classifier: SMOTE-ENN\n",
      " - Accuracy :  0.929\n",
      " - Precision:  0.729\n",
      " - Recall   :  0.887\n",
      " - F1 score :  0.800\n",
      " - AUC score:  0.975\n",
      "Confusion Matrix\n",
      "[[2390  161]\n",
      " [  55  433]]\n"
     ]
    }
   ],
   "source": [
    "# Initiate the model\n",
    "smoteenn_rfc = RandomForestClassifier()\n",
    "\n",
    "# Fit the model\n",
    "smoteenn_rfc_model = smoteenn_rfc.fit(smoteenn_X_train, smoteenn_y_train.ravel())\n",
    "\n",
    "# Make Predictions\n",
    "smoteenn_rfc_pred = smoteenn_rfc_model.predict(X_test)\n",
    "\n",
    "# Calculate Accuracy, Precision, Recall, and F1 score\n",
    "smoteenn_rfc_accuracy = accuracy_score(y_test, smoteenn_rfc_pred)\n",
    "smoteenn_rfc_precision = precision_score(y_test, smoteenn_rfc_pred)\n",
    "smoteenn_rfc_recall = recall_score(y_test, smoteenn_rfc_pred)\n",
    "smoteenn_rfc_f1 = 2 * (smoteenn_rfc_precision * smoteenn_rfc_recall) / (smoteenn_rfc_precision + smoteenn_rfc_recall)\n",
    "\n",
    "# Calculate AUC score\n",
    "smoteenn_rfc_probs = smoteenn_rfc.predict_proba(X_test)\n",
    "smoteenn_rfc_probs = smoteenn_rfc_probs[:,1]\n",
    "smoteenn_rfc_auc = roc_auc_score(y_test, smoteenn_rfc_probs)\n",
    "\n",
    "# Display the metrics\n",
    "print(\"Random Forest Classifier: SMOTE-ENN\")\n",
    "print(\" - Accuracy : \",'{:.3f}'.format(smoteenn_rfc_accuracy))\n",
    "print(\" - Precision: \",'{:.3f}'.format(smoteenn_rfc_precision))\n",
    "print(\" - Recall   : \",'{:.3f}'.format(smoteenn_rfc_recall))\n",
    "print(\" - F1 score : \",'{:.3f}'.format(smoteenn_rfc_f1))\n",
    "print(\" - AUC score: \",'{:.3f}'.format(smoteenn_rfc_auc))\n",
    "\n",
    "# Display the confusion matrix\n",
    "print(\"Confusion Matrix\")\n",
    "print(confusion_matrix(y_test,smoteenn_rfc_pred))"
   ]
  },
  {
   "cell_type": "markdown",
   "metadata": {
    "papermill": {
     "duration": 0.046574,
     "end_time": "2021-03-09T16:52:18.227522",
     "exception": false,
     "start_time": "2021-03-09T16:52:18.180948",
     "status": "completed"
    },
    "tags": []
   },
   "source": [
    "## 5.6. AdaBoost with SMOTE-ENN"
   ]
  },
  {
   "cell_type": "code",
   "execution_count": 39,
   "metadata": {
    "execution": {
     "iopub.execute_input": "2021-03-09T16:52:18.328847Z",
     "iopub.status.busy": "2021-03-09T16:52:18.328130Z",
     "iopub.status.idle": "2021-03-09T16:52:19.489643Z",
     "shell.execute_reply": "2021-03-09T16:52:19.489122Z"
    },
    "papermill": {
     "duration": 1.215825,
     "end_time": "2021-03-09T16:52:19.489816",
     "exception": false,
     "start_time": "2021-03-09T16:52:18.273991",
     "status": "completed"
    },
    "tags": []
   },
   "outputs": [
    {
     "name": "stdout",
     "output_type": "stream",
     "text": [
      "AdaBoost Classifier: SMOTE-ENN\n",
      " - Accuracy :  0.924\n",
      " - Precision:  0.695\n",
      " - Recall   :  0.936\n",
      " - F1 score :  0.798\n",
      " - AUC score:  0.978\n",
      "Confusion Matrix\n",
      "[[2350  201]\n",
      " [  31  457]]\n"
     ]
    }
   ],
   "source": [
    "# Initiate the model\n",
    "smoteenn_adb = AdaBoostClassifier()\n",
    "\n",
    "# Fit the model\n",
    "smoteenn_adb_model = smoteenn_adb.fit(smoteenn_X_train, smoteenn_y_train.ravel())\n",
    "\n",
    "# Make Predictions\n",
    "smoteenn_adb_pred = smoteenn_adb_model.predict(X_test)\n",
    "\n",
    "# Calculate Accuracy, Precision, Recall, and F1 score\n",
    "smoteenn_adb_accuracy = accuracy_score(y_test, smoteenn_adb_pred)\n",
    "smoteenn_adb_precision = precision_score(y_test, smoteenn_adb_pred)\n",
    "smoteenn_adb_recall = recall_score(y_test, smoteenn_adb_pred)\n",
    "smoteenn_adb_f1 = 2 * (smoteenn_adb_precision * smoteenn_adb_recall) / (smoteenn_adb_precision + smoteenn_adb_recall)\n",
    "\n",
    "# Calculate AUC score\n",
    "smoteenn_adb_probs = smoteenn_adb.predict_proba(X_test)\n",
    "smoteenn_adb_probs = smoteenn_adb_probs[:,1]\n",
    "smoteenn_adb_auc = roc_auc_score(y_test, smoteenn_adb_probs)\n",
    "\n",
    "# Display the metrics\n",
    "print(\"AdaBoost Classifier: SMOTE-ENN\")\n",
    "print(\" - Accuracy : \",'{:.3f}'.format(smoteenn_adb_accuracy))\n",
    "print(\" - Precision: \",'{:.3f}'.format(smoteenn_adb_precision))\n",
    "print(\" - Recall   : \",'{:.3f}'.format(smoteenn_adb_recall))\n",
    "print(\" - F1 score : \",'{:.3f}'.format(smoteenn_adb_f1))\n",
    "print(\" - AUC score: \",'{:.3f}'.format(smoteenn_adb_auc))\n",
    "\n",
    "# Display the confusion matrix\n",
    "print(\"Confusion Matrix\")\n",
    "print(confusion_matrix(y_test,smoteenn_adb_pred))"
   ]
  },
  {
   "cell_type": "markdown",
   "metadata": {
    "papermill": {
     "duration": 0.046634,
     "end_time": "2021-03-09T16:52:19.585252",
     "exception": false,
     "start_time": "2021-03-09T16:52:19.538618",
     "status": "completed"
    },
    "tags": []
   },
   "source": [
    "## 5.7. XGBoost Classifier with SMOTE-ENN"
   ]
  },
  {
   "cell_type": "code",
   "execution_count": 40,
   "metadata": {
    "execution": {
     "iopub.execute_input": "2021-03-09T16:52:19.686038Z",
     "iopub.status.busy": "2021-03-09T16:52:19.685255Z",
     "iopub.status.idle": "2021-03-09T16:52:21.313725Z",
     "shell.execute_reply": "2021-03-09T16:52:21.314189Z"
    },
    "papermill": {
     "duration": 1.682527,
     "end_time": "2021-03-09T16:52:21.314492",
     "exception": false,
     "start_time": "2021-03-09T16:52:19.631965",
     "status": "completed"
    },
    "tags": []
   },
   "outputs": [
    {
     "name": "stdout",
     "output_type": "stream",
     "text": [
      "[16:52:19] WARNING: ../src/learner.cc:1061: Starting in XGBoost 1.3.0, the default evaluation metric used with the objective 'binary:logistic' was changed from 'error' to 'logloss'. Explicitly set eval_metric if you'd like to restore the old behavior.\n",
      "XGB Classifier: SMOTEENN\n",
      " - Accuracy:  0.9526159921026653\n",
      " - Precision:  0.8028169014084507\n",
      " - Recall:  0.9344262295081968\n",
      " - F1 score:  0.8636363636363635\n",
      " - AUC score:  0.9879041327412585\n",
      "[[2439  112]\n",
      " [  32  456]]\n"
     ]
    }
   ],
   "source": [
    "# Initiate the model\n",
    "smoteenn_xgb = XGBClassifier()\n",
    "# Fit the model\n",
    "smoteenn_xgb_model =smoteenn_xgb.fit(smoteenn_X_train, smoteenn_y_train.ravel())\n",
    "# Make Predictions\n",
    "smoteenn_xgb_pred = smoteenn_xgb_model.predict(X_test)\n",
    "\n",
    "# Calculate Accuracy, Precision, Recall, and F1 score\n",
    "smoteenn_xgb_accuracy = accuracy_score(y_test, smoteenn_xgb_pred)\n",
    "smoteenn_xgb_precision = precision_score(y_test, smoteenn_xgb_pred)\n",
    "smoteenn_xgb_recall = recall_score(y_test, smoteenn_xgb_pred)\n",
    "smoteenn_xgb_f1 = 2 * (smoteenn_xgb_precision * smoteenn_xgb_recall) / (smoteenn_xgb_precision + smoteenn_xgb_recall)\n",
    "\n",
    "# Calculate AUC score\n",
    "smoteenn_xgb_probs = smoteenn_xgb.predict_proba(X_test)\n",
    "smoteenn_xgb_probs = smoteenn_xgb_probs[:,1]\n",
    "smoteenn_xgb_auc = roc_auc_score(y_test, smoteenn_xgb_probs)\n",
    "\n",
    "# Display the metrics\n",
    "print(\"XGB Classifier: SMOTEENN\")\n",
    "print(\" - Accuracy: \", smoteenn_xgb_accuracy)\n",
    "print(\" - Precision: \", smoteenn_xgb_precision)\n",
    "print(\" - Recall: \", smoteenn_xgb_recall)\n",
    "print(\" - F1 score: \", smoteenn_xgb_f1)\n",
    "print(\" - AUC score: \", smoteenn_xgb_auc)\n",
    "\n",
    "# Display the confusion matrix\n",
    "print(confusion_matrix(y_test,smoteenn_xgb_pred))"
   ]
  },
  {
   "cell_type": "markdown",
   "metadata": {
    "papermill": {
     "duration": 0.04709,
     "end_time": "2021-03-09T16:52:21.409038",
     "exception": false,
     "start_time": "2021-03-09T16:52:21.361948",
     "status": "completed"
    },
    "tags": []
   },
   "source": [
    "# 6. Summary of Results"
   ]
  },
  {
   "cell_type": "code",
   "execution_count": 41,
   "metadata": {
    "execution": {
     "iopub.execute_input": "2021-03-09T16:52:21.520879Z",
     "iopub.status.busy": "2021-03-09T16:52:21.519886Z",
     "iopub.status.idle": "2021-03-09T16:52:21.523543Z",
     "shell.execute_reply": "2021-03-09T16:52:21.523036Z"
    },
    "papermill": {
     "duration": 0.067233,
     "end_time": "2021-03-09T16:52:21.523693",
     "exception": false,
     "start_time": "2021-03-09T16:52:21.456460",
     "status": "completed"
    },
    "tags": []
   },
   "outputs": [],
   "source": [
    "# Create Results Table: Accuracy \n",
    "pd.options.display.float_format = '{:.3f}'.format\n",
    "\n",
    "acc_list = [\n",
    "    [base_lm_accuracy, base_knn_accuracy, base_svc_accuracy, base_tree_accuracy, base_rfc_accuracy,\n",
    "     base_adb_accuracy, base_xgb_accuracy],\n",
    "    [smote_lm_accuracy, smote_knn_accuracy, smote_svc_accuracy, smote_tree_accuracy, smote_rfc_accuracy,\n",
    "     smote_adb_accuracy, smote_xgb_accuracy],\n",
    "    [smoteenn_lm_accuracy, smoteenn_knn_accuracy, smoteenn_svc_accuracy, smoteenn_tree_accuracy, \n",
    "     smoteenn_rfc_accuracy,smoteenn_adb_accuracy, smoteenn_xgb_accuracy]]\n",
    "\n",
    "acc_df = pd.DataFrame(acc_list)\n",
    "acc_df.index = ['BASE','SMOTE','SMOTE-ENN']\n",
    "acc_df.columns = ['Logistic Regression','KNN','SVM','Decision Tree','Random Forest','AdaBoost','XGBoost']   \n",
    "\n",
    "# Create Results Table: Recall\n",
    "rec_list = [\n",
    "    [base_lm_recall, base_knn_recall, base_svc_recall, base_tree_recall, base_rfc_recall,\n",
    "     base_adb_recall, base_xgb_recall],\n",
    "    [smote_lm_recall, smote_knn_recall, smote_svc_recall, smote_tree_recall, smote_rfc_recall,\n",
    "     smote_adb_recall, smote_xgb_recall],\n",
    "    [smoteenn_lm_recall, smoteenn_knn_recall, smoteenn_svc_recall, smoteenn_tree_recall, \n",
    "     smoteenn_rfc_recall,smoteenn_adb_recall, smoteenn_xgb_recall]]\n",
    "\n",
    "rec_df = pd.DataFrame(rec_list)\n",
    "rec_df.index = ['BASE','SMOTE','SMOTE-ENN']\n",
    "rec_df.columns = ['Logistic Regression','KNN','SVM','Decision Tree','Random Forest','AdaBoost','XGBoost']\n",
    "\n",
    "# Create Results Table: F1\n",
    "f1_list = [\n",
    "    [base_lm_f1, base_knn_f1, base_svc_f1, base_tree_f1, base_rfc_f1,base_adb_f1, base_xgb_f1],\n",
    "    [smote_lm_f1, smote_knn_f1, smote_svc_f1, smote_tree_f1, smote_rfc_f1,smote_adb_f1, smote_xgb_f1],\n",
    "    [smoteenn_lm_f1, smoteenn_knn_f1, smoteenn_svc_f1, smoteenn_tree_f1,smoteenn_rfc_f1,smoteenn_adb_f1, \n",
    "     smoteenn_xgb_f1]]\n",
    "\n",
    "f1_df = pd.DataFrame(f1_list)\n",
    "f1_df.index = ['BASE','SMOTE','SMOTE-ENN']\n",
    "f1_df.columns = ['Logistic Regression','KNN','SVM','Decision Tree','Random Forest','AdaBoost','XGBoost']\n",
    "\n",
    "# Create Results Table: AUC\n",
    "auc_list = [\n",
    "    [base_lm_auc, base_knn_auc, base_svc_auc, base_tree_auc, base_rfc_auc,base_adb_auc, base_xgb_auc],\n",
    "    [smote_lm_auc, smote_knn_auc, smote_svc_auc, smote_tree_auc, smote_rfc_auc,smote_adb_auc, smote_xgb_auc],\n",
    "    [smoteenn_lm_auc, smoteenn_knn_auc, smoteenn_svc_auc, smoteenn_tree_auc,smoteenn_rfc_auc,smoteenn_adb_auc, \n",
    "     smoteenn_xgb_auc]]\n",
    "\n",
    "auc_df = pd.DataFrame(auc_list)\n",
    "auc_df.index = ['BASE','SMOTE','SMOTE-ENN']\n",
    "auc_df.columns = ['Logistic Regression','KNN','SVM','Decision Tree','Random Forest','AdaBoost','XGBoost']"
   ]
  },
  {
   "cell_type": "code",
   "execution_count": 42,
   "metadata": {
    "execution": {
     "iopub.execute_input": "2021-03-09T16:52:21.629105Z",
     "iopub.status.busy": "2021-03-09T16:52:21.628480Z",
     "iopub.status.idle": "2021-03-09T16:52:21.634770Z",
     "shell.execute_reply": "2021-03-09T16:52:21.635346Z"
    },
    "papermill": {
     "duration": 0.064531,
     "end_time": "2021-03-09T16:52:21.635534",
     "exception": false,
     "start_time": "2021-03-09T16:52:21.571003",
     "status": "completed"
    },
    "tags": []
   },
   "outputs": [
    {
     "name": "stdout",
     "output_type": "stream",
     "text": [
      "Accuracy\n"
     ]
    },
    {
     "data": {
      "text/html": [
       "<div>\n",
       "<style scoped>\n",
       "    .dataframe tbody tr th:only-of-type {\n",
       "        vertical-align: middle;\n",
       "    }\n",
       "\n",
       "    .dataframe tbody tr th {\n",
       "        vertical-align: top;\n",
       "    }\n",
       "\n",
       "    .dataframe thead th {\n",
       "        text-align: right;\n",
       "    }\n",
       "</style>\n",
       "<table border=\"1\" class=\"dataframe\">\n",
       "  <thead>\n",
       "    <tr style=\"text-align: right;\">\n",
       "      <th></th>\n",
       "      <th>Logistic Regression</th>\n",
       "      <th>KNN</th>\n",
       "      <th>SVM</th>\n",
       "      <th>Decision Tree</th>\n",
       "      <th>Random Forest</th>\n",
       "      <th>AdaBoost</th>\n",
       "      <th>XGBoost</th>\n",
       "    </tr>\n",
       "  </thead>\n",
       "  <tbody>\n",
       "    <tr>\n",
       "      <th>BASE</th>\n",
       "      <td>0.904</td>\n",
       "      <td>0.871</td>\n",
       "      <td>0.919</td>\n",
       "      <td>0.938</td>\n",
       "      <td>0.956</td>\n",
       "      <td>0.957</td>\n",
       "      <td>0.970</td>\n",
       "    </tr>\n",
       "    <tr>\n",
       "      <th>SMOTE</th>\n",
       "      <td>0.853</td>\n",
       "      <td>0.765</td>\n",
       "      <td>0.904</td>\n",
       "      <td>0.918</td>\n",
       "      <td>0.957</td>\n",
       "      <td>0.938</td>\n",
       "      <td>0.970</td>\n",
       "    </tr>\n",
       "    <tr>\n",
       "      <th>SMOTE-ENN</th>\n",
       "      <td>0.806</td>\n",
       "      <td>0.684</td>\n",
       "      <td>0.862</td>\n",
       "      <td>0.895</td>\n",
       "      <td>0.929</td>\n",
       "      <td>0.924</td>\n",
       "      <td>0.953</td>\n",
       "    </tr>\n",
       "  </tbody>\n",
       "</table>\n",
       "</div>"
      ],
      "text/plain": [
       "           Logistic Regression   KNN   SVM  Decision Tree  Random Forest  \\\n",
       "BASE                     0.904 0.871 0.919          0.938          0.956   \n",
       "SMOTE                    0.853 0.765 0.904          0.918          0.957   \n",
       "SMOTE-ENN                0.806 0.684 0.862          0.895          0.929   \n",
       "\n",
       "           AdaBoost  XGBoost  \n",
       "BASE          0.957    0.970  \n",
       "SMOTE         0.938    0.970  \n",
       "SMOTE-ENN     0.924    0.953  "
      ]
     },
     "execution_count": 42,
     "metadata": {},
     "output_type": "execute_result"
    }
   ],
   "source": [
    "print(\"Accuracy\")\n",
    "acc_df"
   ]
  },
  {
   "cell_type": "code",
   "execution_count": 43,
   "metadata": {
    "execution": {
     "iopub.execute_input": "2021-03-09T16:52:21.739860Z",
     "iopub.status.busy": "2021-03-09T16:52:21.739215Z",
     "iopub.status.idle": "2021-03-09T16:52:21.747744Z",
     "shell.execute_reply": "2021-03-09T16:52:21.748160Z"
    },
    "papermill": {
     "duration": 0.064379,
     "end_time": "2021-03-09T16:52:21.748343",
     "exception": false,
     "start_time": "2021-03-09T16:52:21.683964",
     "status": "completed"
    },
    "tags": []
   },
   "outputs": [
    {
     "name": "stdout",
     "output_type": "stream",
     "text": [
      "Recall\n"
     ]
    },
    {
     "data": {
      "text/html": [
       "<div>\n",
       "<style scoped>\n",
       "    .dataframe tbody tr th:only-of-type {\n",
       "        vertical-align: middle;\n",
       "    }\n",
       "\n",
       "    .dataframe tbody tr th {\n",
       "        vertical-align: top;\n",
       "    }\n",
       "\n",
       "    .dataframe thead th {\n",
       "        text-align: right;\n",
       "    }\n",
       "</style>\n",
       "<table border=\"1\" class=\"dataframe\">\n",
       "  <thead>\n",
       "    <tr style=\"text-align: right;\">\n",
       "      <th></th>\n",
       "      <th>Logistic Regression</th>\n",
       "      <th>KNN</th>\n",
       "      <th>SVM</th>\n",
       "      <th>Decision Tree</th>\n",
       "      <th>Random Forest</th>\n",
       "      <th>AdaBoost</th>\n",
       "      <th>XGBoost</th>\n",
       "    </tr>\n",
       "  </thead>\n",
       "  <tbody>\n",
       "    <tr>\n",
       "      <th>BASE</th>\n",
       "      <td>0.574</td>\n",
       "      <td>0.303</td>\n",
       "      <td>0.586</td>\n",
       "      <td>0.791</td>\n",
       "      <td>0.785</td>\n",
       "      <td>0.816</td>\n",
       "      <td>0.861</td>\n",
       "    </tr>\n",
       "    <tr>\n",
       "      <th>SMOTE</th>\n",
       "      <td>0.803</td>\n",
       "      <td>0.703</td>\n",
       "      <td>0.799</td>\n",
       "      <td>0.803</td>\n",
       "      <td>0.840</td>\n",
       "      <td>0.871</td>\n",
       "      <td>0.889</td>\n",
       "    </tr>\n",
       "    <tr>\n",
       "      <th>SMOTE-ENN</th>\n",
       "      <td>0.855</td>\n",
       "      <td>0.807</td>\n",
       "      <td>0.863</td>\n",
       "      <td>0.828</td>\n",
       "      <td>0.887</td>\n",
       "      <td>0.936</td>\n",
       "      <td>0.934</td>\n",
       "    </tr>\n",
       "  </tbody>\n",
       "</table>\n",
       "</div>"
      ],
      "text/plain": [
       "           Logistic Regression   KNN   SVM  Decision Tree  Random Forest  \\\n",
       "BASE                     0.574 0.303 0.586          0.791          0.785   \n",
       "SMOTE                    0.803 0.703 0.799          0.803          0.840   \n",
       "SMOTE-ENN                0.855 0.807 0.863          0.828          0.887   \n",
       "\n",
       "           AdaBoost  XGBoost  \n",
       "BASE          0.816    0.861  \n",
       "SMOTE         0.871    0.889  \n",
       "SMOTE-ENN     0.936    0.934  "
      ]
     },
     "execution_count": 43,
     "metadata": {},
     "output_type": "execute_result"
    }
   ],
   "source": [
    "print(\"Recall\")\n",
    "rec_df"
   ]
  },
  {
   "cell_type": "code",
   "execution_count": 44,
   "metadata": {
    "execution": {
     "iopub.execute_input": "2021-03-09T16:52:21.849897Z",
     "iopub.status.busy": "2021-03-09T16:52:21.849277Z",
     "iopub.status.idle": "2021-03-09T16:52:21.861207Z",
     "shell.execute_reply": "2021-03-09T16:52:21.860624Z"
    },
    "papermill": {
     "duration": 0.064116,
     "end_time": "2021-03-09T16:52:21.861348",
     "exception": false,
     "start_time": "2021-03-09T16:52:21.797232",
     "status": "completed"
    },
    "tags": []
   },
   "outputs": [
    {
     "name": "stdout",
     "output_type": "stream",
     "text": [
      "F1 score\n"
     ]
    },
    {
     "data": {
      "text/html": [
       "<div>\n",
       "<style scoped>\n",
       "    .dataframe tbody tr th:only-of-type {\n",
       "        vertical-align: middle;\n",
       "    }\n",
       "\n",
       "    .dataframe tbody tr th {\n",
       "        vertical-align: top;\n",
       "    }\n",
       "\n",
       "    .dataframe thead th {\n",
       "        text-align: right;\n",
       "    }\n",
       "</style>\n",
       "<table border=\"1\" class=\"dataframe\">\n",
       "  <thead>\n",
       "    <tr style=\"text-align: right;\">\n",
       "      <th></th>\n",
       "      <th>Logistic Regression</th>\n",
       "      <th>KNN</th>\n",
       "      <th>SVM</th>\n",
       "      <th>Decision Tree</th>\n",
       "      <th>Random Forest</th>\n",
       "      <th>AdaBoost</th>\n",
       "      <th>XGBoost</th>\n",
       "    </tr>\n",
       "  </thead>\n",
       "  <tbody>\n",
       "    <tr>\n",
       "      <th>BASE</th>\n",
       "      <td>0.657</td>\n",
       "      <td>0.430</td>\n",
       "      <td>0.700</td>\n",
       "      <td>0.803</td>\n",
       "      <td>0.850</td>\n",
       "      <td>0.858</td>\n",
       "      <td>0.901</td>\n",
       "    </tr>\n",
       "    <tr>\n",
       "      <th>SMOTE</th>\n",
       "      <td>0.637</td>\n",
       "      <td>0.490</td>\n",
       "      <td>0.728</td>\n",
       "      <td>0.760</td>\n",
       "      <td>0.861</td>\n",
       "      <td>0.820</td>\n",
       "      <td>0.905</td>\n",
       "    </tr>\n",
       "    <tr>\n",
       "      <th>SMOTE-ENN</th>\n",
       "      <td>0.585</td>\n",
       "      <td>0.451</td>\n",
       "      <td>0.668</td>\n",
       "      <td>0.717</td>\n",
       "      <td>0.800</td>\n",
       "      <td>0.798</td>\n",
       "      <td>0.864</td>\n",
       "    </tr>\n",
       "  </tbody>\n",
       "</table>\n",
       "</div>"
      ],
      "text/plain": [
       "           Logistic Regression   KNN   SVM  Decision Tree  Random Forest  \\\n",
       "BASE                     0.657 0.430 0.700          0.803          0.850   \n",
       "SMOTE                    0.637 0.490 0.728          0.760          0.861   \n",
       "SMOTE-ENN                0.585 0.451 0.668          0.717          0.800   \n",
       "\n",
       "           AdaBoost  XGBoost  \n",
       "BASE          0.858    0.901  \n",
       "SMOTE         0.820    0.905  \n",
       "SMOTE-ENN     0.798    0.864  "
      ]
     },
     "execution_count": 44,
     "metadata": {},
     "output_type": "execute_result"
    }
   ],
   "source": [
    "print(\"F1 score\")\n",
    "f1_df"
   ]
  },
  {
   "cell_type": "code",
   "execution_count": 45,
   "metadata": {
    "execution": {
     "iopub.execute_input": "2021-03-09T16:52:21.972813Z",
     "iopub.status.busy": "2021-03-09T16:52:21.968947Z",
     "iopub.status.idle": "2021-03-09T16:52:21.978287Z",
     "shell.execute_reply": "2021-03-09T16:52:21.978747Z"
    },
    "papermill": {
     "duration": 0.068007,
     "end_time": "2021-03-09T16:52:21.978944",
     "exception": false,
     "start_time": "2021-03-09T16:52:21.910937",
     "status": "completed"
    },
    "tags": []
   },
   "outputs": [
    {
     "name": "stdout",
     "output_type": "stream",
     "text": [
      "AUC\n"
     ]
    },
    {
     "data": {
      "text/html": [
       "<div>\n",
       "<style scoped>\n",
       "    .dataframe tbody tr th:only-of-type {\n",
       "        vertical-align: middle;\n",
       "    }\n",
       "\n",
       "    .dataframe tbody tr th {\n",
       "        vertical-align: top;\n",
       "    }\n",
       "\n",
       "    .dataframe thead th {\n",
       "        text-align: right;\n",
       "    }\n",
       "</style>\n",
       "<table border=\"1\" class=\"dataframe\">\n",
       "  <thead>\n",
       "    <tr style=\"text-align: right;\">\n",
       "      <th></th>\n",
       "      <th>Logistic Regression</th>\n",
       "      <th>KNN</th>\n",
       "      <th>SVM</th>\n",
       "      <th>Decision Tree</th>\n",
       "      <th>Random Forest</th>\n",
       "      <th>AdaBoost</th>\n",
       "      <th>XGBoost</th>\n",
       "    </tr>\n",
       "  </thead>\n",
       "  <tbody>\n",
       "    <tr>\n",
       "      <th>BASE</th>\n",
       "      <td>0.920</td>\n",
       "      <td>0.794</td>\n",
       "      <td>0.943</td>\n",
       "      <td>0.878</td>\n",
       "      <td>0.985</td>\n",
       "      <td>0.986</td>\n",
       "      <td>0.994</td>\n",
       "    </tr>\n",
       "    <tr>\n",
       "      <th>SMOTE</th>\n",
       "      <td>0.920</td>\n",
       "      <td>0.808</td>\n",
       "      <td>0.944</td>\n",
       "      <td>0.872</td>\n",
       "      <td>0.984</td>\n",
       "      <td>0.976</td>\n",
       "      <td>0.992</td>\n",
       "    </tr>\n",
       "    <tr>\n",
       "      <th>SMOTE-ENN</th>\n",
       "      <td>0.917</td>\n",
       "      <td>0.790</td>\n",
       "      <td>0.936</td>\n",
       "      <td>0.868</td>\n",
       "      <td>0.975</td>\n",
       "      <td>0.978</td>\n",
       "      <td>0.988</td>\n",
       "    </tr>\n",
       "  </tbody>\n",
       "</table>\n",
       "</div>"
      ],
      "text/plain": [
       "           Logistic Regression   KNN   SVM  Decision Tree  Random Forest  \\\n",
       "BASE                     0.920 0.794 0.943          0.878          0.985   \n",
       "SMOTE                    0.920 0.808 0.944          0.872          0.984   \n",
       "SMOTE-ENN                0.917 0.790 0.936          0.868          0.975   \n",
       "\n",
       "           AdaBoost  XGBoost  \n",
       "BASE          0.986    0.994  \n",
       "SMOTE         0.976    0.992  \n",
       "SMOTE-ENN     0.978    0.988  "
      ]
     },
     "execution_count": 45,
     "metadata": {},
     "output_type": "execute_result"
    }
   ],
   "source": [
    "print(\"AUC\")\n",
    "auc_df"
   ]
  },
  {
   "cell_type": "markdown",
   "metadata": {
    "papermill": {
     "duration": 0.049934,
     "end_time": "2021-03-09T16:52:22.078981",
     "exception": false,
     "start_time": "2021-03-09T16:52:22.029047",
     "status": "completed"
    },
    "tags": []
   },
   "source": [
    "- Baseline model achieved the highest performance.\n",
    "- Among them, XGBoost achieve the highest performance. AUC score = 0.994"
   ]
  },
  {
   "cell_type": "markdown",
   "metadata": {
    "papermill": {
     "duration": 0.05089,
     "end_time": "2021-03-09T16:52:22.180776",
     "exception": false,
     "start_time": "2021-03-09T16:52:22.129886",
     "status": "completed"
    },
    "tags": []
   },
   "source": [
    "## ROC Curve"
   ]
  },
  {
   "cell_type": "code",
   "execution_count": 46,
   "metadata": {
    "execution": {
     "iopub.execute_input": "2021-03-09T16:52:22.295667Z",
     "iopub.status.busy": "2021-03-09T16:52:22.294306Z",
     "iopub.status.idle": "2021-03-09T16:52:24.336656Z",
     "shell.execute_reply": "2021-03-09T16:52:24.337275Z"
    },
    "papermill": {
     "duration": 2.106464,
     "end_time": "2021-03-09T16:52:24.337482",
     "exception": false,
     "start_time": "2021-03-09T16:52:22.231018",
     "status": "completed"
    },
    "tags": []
   },
   "outputs": [],
   "source": [
    "# Import the library for ROC curve.\n",
    "from sklearn.metrics import roc_curve, roc_auc_score\n",
    "\n",
    "ns_probs = [0 for _ in range(len(y_test))]\n",
    "\n",
    "prob_lm = base_lm_model.predict_proba(X_test)\n",
    "prob_lm = prob_lm[:,1]\n",
    "\n",
    "prob_knn = base_knn_model.predict_proba(X_test)\n",
    "prob_knn = prob_knn[:,1]\n",
    "\n",
    "prob_svc = base_svc_model.predict_proba(X_test)\n",
    "prob_svc = prob_svc[:,1]\n",
    "\n",
    "prob_tree = base_tree_model.predict_proba(X_test)\n",
    "prob_tree = prob_tree[:,1]\n",
    "\n",
    "prob_rfc = base_rfc_model.predict_proba(X_test)\n",
    "prob_rfc = prob_rfc[:,1]\n",
    "\n",
    "prob_adb = base_adb_model.predict_proba(X_test)\n",
    "prob_adb = prob_adb[:,1]\n",
    "\n",
    "prob_xgb = base_xgb_model.predict_proba(X_test)\n",
    "prob_xgb = prob_xgb[:,1]"
   ]
  },
  {
   "cell_type": "code",
   "execution_count": 47,
   "metadata": {
    "execution": {
     "iopub.execute_input": "2021-03-09T16:52:24.442126Z",
     "iopub.status.busy": "2021-03-09T16:52:24.441463Z",
     "iopub.status.idle": "2021-03-09T16:52:24.821085Z",
     "shell.execute_reply": "2021-03-09T16:52:24.821550Z"
    },
    "papermill": {
     "duration": 0.433766,
     "end_time": "2021-03-09T16:52:24.821738",
     "exception": false,
     "start_time": "2021-03-09T16:52:24.387972",
     "status": "completed"
    },
    "tags": []
   },
   "outputs": [
    {
     "data": {
      "image/png": "[encoded data removed]",
      "text/plain": [
       "<Figure size 576x432 with 1 Axes>"
      ]
     },
     "metadata": {
      "image/png": {
       "height": 376,
       "width": 503
      },
      "needs_background": "light"
     },
     "output_type": "display_data"
    }
   ],
   "source": [
    "ns_fpr, ns_tpr, _ = roc_curve(y_test, ns_probs)\n",
    "lm_fpr, lm_tpr, _ = roc_curve(y_test, prob_lm)\n",
    "knn_fpr, knn_tpr, _ = roc_curve(y_test, prob_knn)\n",
    "svc_fpr, svc_tpr, _ = roc_curve(y_test, prob_svc)\n",
    "tree_fpr, tree_tpr, _ = roc_curve(y_test, prob_tree)\n",
    "rfc_fpr, rfc_tpr, _ = roc_curve(y_test, prob_rfc)\n",
    "adb_fpr, adb_tpr, _ = roc_curve(y_test, prob_adb)\n",
    "xgb_fpr, xgb_tpr, _ = roc_curve(y_test, prob_xgb)\n",
    "\n",
    "plt.figure(figsize=(8, 6))\n",
    "plt.plot(ns_fpr, ns_tpr, linestyle='--', label='Based on Majority')\n",
    "plt.plot(lm_fpr, lm_tpr, marker='.', label='Logistic')\n",
    "plt.plot(knn_fpr, knn_tpr, marker='.', label='KNN')\n",
    "plt.plot(svc_fpr, svc_tpr, marker='.', label='SVM')\n",
    "plt.plot(tree_fpr, tree_tpr, marker='.', label='Decision Tree')\n",
    "plt.plot(rfc_fpr, rfc_tpr, marker='.', label='Random Forest')\n",
    "plt.plot(adb_fpr, adb_tpr, marker='.', label='AdaBoost')\n",
    "plt.plot(xgb_fpr, xgb_tpr, marker='.', label='XGBoost')\n",
    "\n",
    "plt.xlabel('False Positive Rate')\n",
    "plt.ylabel('True Positive Rate')\n",
    "\n",
    "plt.legend()\n",
    "plt.show()"
   ]
  },
  {
   "cell_type": "code",
   "execution_count": null,
   "metadata": {
    "papermill": {
     "duration": 0.053427,
     "end_time": "2021-03-09T16:52:24.929218",
     "exception": false,
     "start_time": "2021-03-09T16:52:24.875791",
     "status": "completed"
    },
    "tags": []
   },
   "outputs": [],
   "source": []
  }
 ],
 "metadata": {
  "kernelspec": {
   "display_name": "Python 3",
   "language": "python",
   "name": "python3"
  },
  "language_info": {
   "codemirror_mode": {
    "name": "ipython",
    "version": 3
   },
   "file_extension": ".py",
   "mimetype": "text/x-python",
   "name": "python",
   "nbconvert_exporter": "python",
   "pygments_lexer": "ipython3",
   "version": "3.7.9"
  },
  "papermill": {
   "default_parameters": {},
   "duration": 104.093209,
   "end_time": "2021-03-09T16:52:25.692231",
   "environment_variables": {},
   "exception": null,
   "input_path": "__notebook__.ipynb",
   "output_path": "__notebook__.ipynb",
   "parameters": {},
   "start_time": "2021-03-09T16:50:41.599022",
   "version": "2.2.2"
  }
 },
 "nbformat": 4,
 "nbformat_minor": 4
}
